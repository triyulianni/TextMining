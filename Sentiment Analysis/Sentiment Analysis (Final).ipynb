{
 "cells": [
  {
   "cell_type": "markdown",
   "id": "62e2ce48",
   "metadata": {},
   "source": [
    "# Summary\n",
    "This script processes a dataset of cleaned Grab Playstore reviews and performs sentiment analysis using three methods: Naive Bayes Classifier, Lexicon-based Classifier, and Vader Sentiment Analyzer.\n",
    "\n",
    "The script includes the following steps:\n",
    "\n",
    "1. Importing necessary libraries and reading the data from a CSV file\n",
    "2. Data preprocessing, including expanding contractions and assigning gold truth labels based on review scores\n",
    "3. Training a Naive Bayes Classifier (Probablistic) using train-test split\n",
    "4. Applying Lexicon-based Classifier (Dictionary-based) on the test data\n",
    "5. Applying Vader Sentiment Analyzer (Rule-based) on the test data\n",
    "6. Comparing the performance of the three models by examining accuracy, weighted precision, weighted recall, and weighted F1 scores.\n",
    "7. Visualization of results of 3 models\n",
    "8. Analyzing the most common words in misclassified reviews for each model\n",
    "9. Calculate the incorrect predictions made by each model\n",
    "10. Analysis of Naive Bayes\n",
    "11. Using the trained Naive Bayes model to train the entire dataset to output the sentiment"
   ]
  },
  {
   "cell_type": "markdown",
   "id": "b497009b",
   "metadata": {
    "id": "b497009b"
   },
   "source": [
    "# 1. Importing necessary libraries and reading the data from a CSV file.\n"
   ]
  },
  {
   "cell_type": "markdown",
   "id": "7af58e16",
   "metadata": {},
   "source": [
    "Importing all relevant libraries"
   ]
  },
  {
   "cell_type": "code",
   "execution_count": 20,
   "id": "e337fec0",
   "metadata": {},
   "outputs": [],
   "source": [
    "# Installations\n",
    "# !pip install contractions"
   ]
  },
  {
   "cell_type": "code",
   "execution_count": 21,
   "id": "8f5eca85",
   "metadata": {
    "id": "8f5eca85",
    "outputId": "79aee8e0-188d-46f4-f882-59b06d6df4bf"
   },
   "outputs": [],
   "source": [
    "#general libraries\n",
    "import pandas as pd\n",
    "import numpy as np\n",
    "import gensim\n",
    "from sklearn.model_selection import train_test_split\n",
    "\n",
    "#for Vader\n",
    "import nltk\n",
    "# nltk.download('vader_lexicon')\n",
    "from nltk.sentiment.vader import SentimentIntensityAnalyzer\n",
    "sent_analyzer = SentimentIntensityAnalyzer()\n",
    "\n",
    "#confusion matrix\n",
    "from sklearn.metrics import accuracy_score, precision_score, recall_score, f1_score, confusion_matrix, classification_report\n",
    "from sklearn.metrics import confusion_matrix, classification_report"
   ]
  },
  {
   "cell_type": "code",
   "execution_count": 22,
   "id": "e94c0cfb",
   "metadata": {
    "id": "e94c0cfb"
   },
   "outputs": [],
   "source": [
    "import re\n",
    "import contractions\n",
    "\n",
    "pd.options.mode.chained_assignment = None "
   ]
  },
  {
   "cell_type": "markdown",
   "id": "6947666c",
   "metadata": {
    "id": "6947666c"
   },
   "source": [
    "# 2. Data preprocessing, including expanding contractions and assigning gold truth labels based on review scores."
   ]
  },
  {
   "cell_type": "code",
   "execution_count": 23,
   "id": "0380e77b",
   "metadata": {
    "id": "0380e77b",
    "scrolled": true
   },
   "outputs": [
    {
     "data": {
      "text/html": [
       "<div>\n",
       "<style scoped>\n",
       "    .dataframe tbody tr th:only-of-type {\n",
       "        vertical-align: middle;\n",
       "    }\n",
       "\n",
       "    .dataframe tbody tr th {\n",
       "        vertical-align: top;\n",
       "    }\n",
       "\n",
       "    .dataframe thead th {\n",
       "        text-align: right;\n",
       "    }\n",
       "</style>\n",
       "<table border=\"1\" class=\"dataframe\">\n",
       "  <thead>\n",
       "    <tr style=\"text-align: right;\">\n",
       "      <th></th>\n",
       "      <th>Review</th>\n",
       "      <th>Score</th>\n",
       "    </tr>\n",
       "  </thead>\n",
       "  <tbody>\n",
       "    <tr>\n",
       "      <th>0</th>\n",
       "      <td>update poor performance taking minutes search ...</td>\n",
       "      <td>1</td>\n",
       "    </tr>\n",
       "    <tr>\n",
       "      <th>1</th>\n",
       "      <td>bad app</td>\n",
       "      <td>1</td>\n",
       "    </tr>\n",
       "    <tr>\n",
       "      <th>2</th>\n",
       "      <td>friendly helpful nice well maintained vehicle ...</td>\n",
       "      <td>5</td>\n",
       "    </tr>\n",
       "    <tr>\n",
       "      <th>3</th>\n",
       "      <td>remove grab app looking food knew car number w...</td>\n",
       "      <td>2</td>\n",
       "    </tr>\n",
       "    <tr>\n",
       "      <th>4</th>\n",
       "      <td>embarassing singapore waiting time reduced min...</td>\n",
       "      <td>2</td>\n",
       "    </tr>\n",
       "  </tbody>\n",
       "</table>\n",
       "</div>"
      ],
      "text/plain": [
       "                                              Review  Score\n",
       "0  update poor performance taking minutes search ...      1\n",
       "1                                            bad app      1\n",
       "2  friendly helpful nice well maintained vehicle ...      5\n",
       "3  remove grab app looking food knew car number w...      2\n",
       "4  embarassing singapore waiting time reduced min...      2"
      ]
     },
     "execution_count": 23,
     "metadata": {},
     "output_type": "execute_result"
    }
   ],
   "source": [
    "df = pd.read_csv('cleaned_grab_playstore_reviews.csv')\n",
    "\n",
    "df = df.drop('Date', axis=1)\n",
    "\n",
    "df.head()"
   ]
  },
  {
   "cell_type": "code",
   "execution_count": 24,
   "id": "1035ba42",
   "metadata": {
    "id": "1035ba42"
   },
   "outputs": [
    {
     "data": {
      "text/html": [
       "<div>\n",
       "<style scoped>\n",
       "    .dataframe tbody tr th:only-of-type {\n",
       "        vertical-align: middle;\n",
       "    }\n",
       "\n",
       "    .dataframe tbody tr th {\n",
       "        vertical-align: top;\n",
       "    }\n",
       "\n",
       "    .dataframe thead th {\n",
       "        text-align: right;\n",
       "    }\n",
       "</style>\n",
       "<table border=\"1\" class=\"dataframe\">\n",
       "  <thead>\n",
       "    <tr style=\"text-align: right;\">\n",
       "      <th></th>\n",
       "      <th>Review</th>\n",
       "      <th>Review_SA_Processed</th>\n",
       "      <th>Score</th>\n",
       "    </tr>\n",
       "  </thead>\n",
       "  <tbody>\n",
       "    <tr>\n",
       "      <th>9802</th>\n",
       "      <td>good heavens future taxi trip arrangements tha...</td>\n",
       "      <td>good heavens future taxi trip arrangements tha...</td>\n",
       "      <td>5</td>\n",
       "    </tr>\n",
       "    <tr>\n",
       "      <th>9803</th>\n",
       "      <td>apa punya babi customer service baru nak typin...</td>\n",
       "      <td>apa punya babi customer service baru nak typin...</td>\n",
       "      <td>1</td>\n",
       "    </tr>\n",
       "    <tr>\n",
       "      <th>9804</th>\n",
       "      <td>grab app helpful service fast amazing delivere...</td>\n",
       "      <td>grab app helpful service fast amazing delivere...</td>\n",
       "      <td>5</td>\n",
       "    </tr>\n",
       "    <tr>\n",
       "      <th>9805</th>\n",
       "      <td>trying book ride broad daylight specific spent...</td>\n",
       "      <td>trying book ride broad daylight specific spent...</td>\n",
       "      <td>1</td>\n",
       "    </tr>\n",
       "    <tr>\n",
       "      <th>9806</th>\n",
       "      <td>cashing easy cant use credit pay cashless try ...</td>\n",
       "      <td>cashing easy cannot use credit pay cashless tr...</td>\n",
       "      <td>1</td>\n",
       "    </tr>\n",
       "  </tbody>\n",
       "</table>\n",
       "</div>"
      ],
      "text/plain": [
       "                                                 Review  \\\n",
       "9802  good heavens future taxi trip arrangements tha...   \n",
       "9803  apa punya babi customer service baru nak typin...   \n",
       "9804  grab app helpful service fast amazing delivere...   \n",
       "9805  trying book ride broad daylight specific spent...   \n",
       "9806  cashing easy cant use credit pay cashless try ...   \n",
       "\n",
       "                                    Review_SA_Processed  Score  \n",
       "9802  good heavens future taxi trip arrangements tha...      5  \n",
       "9803  apa punya babi customer service baru nak typin...      1  \n",
       "9804  grab app helpful service fast amazing delivere...      5  \n",
       "9805  trying book ride broad daylight specific spent...      1  \n",
       "9806  cashing easy cannot use credit pay cashless tr...      1  "
      ]
     },
     "execution_count": 24,
     "metadata": {},
     "output_type": "execute_result"
    }
   ],
   "source": [
    "#obtain list of polarity based on scores\n",
    "score_polarity = []\n",
    "for i in range(len(df)):\n",
    "    if df['Score'][i] == 3:\n",
    "        score_polarity.append('neutral')\n",
    "    elif df['Score'][i] < 3:\n",
    "        score_polarity.append('negative')\n",
    "    else:\n",
    "        score_polarity.append('positive')\n",
    "\n",
    "# Expand contractions within the reviews which include those like cant, dont\n",
    "def decontract_reviews(text):\n",
    "    return contractions.fix(text)\n",
    "\n",
    "# df['Review_SA_Processed'] = df['Review'].apply(decontract_reviews)\n",
    "df.insert(loc = 1, column = 'Review_SA_Processed', value = df['Review'].apply(decontract_reviews))\n",
    "\n",
    "df.tail()"
   ]
  },
  {
   "cell_type": "code",
   "execution_count": 25,
   "id": "6bc8f29c",
   "metadata": {
    "id": "6bc8f29c",
    "outputId": "fa7164fc-2d68-4023-c3ed-2f681e1bb23b"
   },
   "outputs": [],
   "source": [
    "#include gold_truth column\n",
    "df = df.assign(gold_truth=score_polarity)"
   ]
  },
  {
   "cell_type": "markdown",
   "id": "addb2e66",
   "metadata": {},
   "source": [
    "From the following data, we can observe that certain reviews do not align with the score given. For example, various reviews with 'good' in it, has a low score of 1 or 2, indicating that our dataset has irregular reviews"
   ]
  },
  {
   "cell_type": "code",
   "execution_count": 26,
   "id": "b55f872b",
   "metadata": {},
   "outputs": [
    {
     "data": {
      "text/html": [
       "<div>\n",
       "<style scoped>\n",
       "    .dataframe tbody tr th:only-of-type {\n",
       "        vertical-align: middle;\n",
       "    }\n",
       "\n",
       "    .dataframe tbody tr th {\n",
       "        vertical-align: top;\n",
       "    }\n",
       "\n",
       "    .dataframe thead th {\n",
       "        text-align: right;\n",
       "    }\n",
       "</style>\n",
       "<table border=\"1\" class=\"dataframe\">\n",
       "  <thead>\n",
       "    <tr style=\"text-align: right;\">\n",
       "      <th></th>\n",
       "      <th>Review</th>\n",
       "      <th>Review_SA_Processed</th>\n",
       "      <th>Score</th>\n",
       "      <th>gold_truth</th>\n",
       "    </tr>\n",
       "  </thead>\n",
       "  <tbody>\n",
       "    <tr>\n",
       "      <th>27</th>\n",
       "      <td>good service costumer keep comeing late costumer</td>\n",
       "      <td>good service costumer keep comeing late costumer</td>\n",
       "      <td>1</td>\n",
       "      <td>negative</td>\n",
       "    </tr>\n",
       "    <tr>\n",
       "      <th>325</th>\n",
       "      <td>usd good app huge piece garbage grab car gone ...</td>\n",
       "      <td>usd good app huge piece garbage grab car gone ...</td>\n",
       "      <td>1</td>\n",
       "      <td>negative</td>\n",
       "    </tr>\n",
       "    <tr>\n",
       "      <th>393</th>\n",
       "      <td>good apps use emergency situations price expen...</td>\n",
       "      <td>good apps use emergency situations price expen...</td>\n",
       "      <td>2</td>\n",
       "      <td>negative</td>\n",
       "    </tr>\n",
       "    <tr>\n",
       "      <th>801</th>\n",
       "      <td>another anti new user app oh im sure nice use ...</td>\n",
       "      <td>another anti new user app oh i am sure nice us...</td>\n",
       "      <td>1</td>\n",
       "      <td>negative</td>\n",
       "    </tr>\n",
       "    <tr>\n",
       "      <th>808</th>\n",
       "      <td>good</td>\n",
       "      <td>good</td>\n",
       "      <td>1</td>\n",
       "      <td>negative</td>\n",
       "    </tr>\n",
       "    <tr>\n",
       "      <th>...</th>\n",
       "      <td>...</td>\n",
       "      <td>...</td>\n",
       "      <td>...</td>\n",
       "      <td>...</td>\n",
       "    </tr>\n",
       "    <tr>\n",
       "      <th>9359</th>\n",
       "      <td>whats point time sensitive use within minutes ...</td>\n",
       "      <td>what is point time sensitive use within minute...</td>\n",
       "      <td>1</td>\n",
       "      <td>negative</td>\n",
       "    </tr>\n",
       "    <tr>\n",
       "      <th>9422</th>\n",
       "      <td>hard book car waste time grab car used good cl...</td>\n",
       "      <td>hard book car waste time grab car used good cl...</td>\n",
       "      <td>1</td>\n",
       "      <td>negative</td>\n",
       "    </tr>\n",
       "    <tr>\n",
       "      <th>9546</th>\n",
       "      <td>worked good able order card saying able author...</td>\n",
       "      <td>worked good able order card saying able author...</td>\n",
       "      <td>1</td>\n",
       "      <td>negative</td>\n",
       "    </tr>\n",
       "    <tr>\n",
       "      <th>9593</th>\n",
       "      <td>good</td>\n",
       "      <td>good</td>\n",
       "      <td>1</td>\n",
       "      <td>negative</td>\n",
       "    </tr>\n",
       "    <tr>\n",
       "      <th>9631</th>\n",
       "      <td>good service</td>\n",
       "      <td>good service</td>\n",
       "      <td>1</td>\n",
       "      <td>negative</td>\n",
       "    </tr>\n",
       "  </tbody>\n",
       "</table>\n",
       "<p>117 rows × 4 columns</p>\n",
       "</div>"
      ],
      "text/plain": [
       "                                                 Review  \\\n",
       "27     good service costumer keep comeing late costumer   \n",
       "325   usd good app huge piece garbage grab car gone ...   \n",
       "393   good apps use emergency situations price expen...   \n",
       "801   another anti new user app oh im sure nice use ...   \n",
       "808                                                good   \n",
       "...                                                 ...   \n",
       "9359  whats point time sensitive use within minutes ...   \n",
       "9422  hard book car waste time grab car used good cl...   \n",
       "9546  worked good able order card saying able author...   \n",
       "9593                                               good   \n",
       "9631                                       good service   \n",
       "\n",
       "                                    Review_SA_Processed  Score gold_truth  \n",
       "27     good service costumer keep comeing late costumer      1   negative  \n",
       "325   usd good app huge piece garbage grab car gone ...      1   negative  \n",
       "393   good apps use emergency situations price expen...      2   negative  \n",
       "801   another anti new user app oh i am sure nice us...      1   negative  \n",
       "808                                                good      1   negative  \n",
       "...                                                 ...    ...        ...  \n",
       "9359  what is point time sensitive use within minute...      1   negative  \n",
       "9422  hard book car waste time grab car used good cl...      1   negative  \n",
       "9546  worked good able order card saying able author...      1   negative  \n",
       "9593                                               good      1   negative  \n",
       "9631                                       good service      1   negative  \n",
       "\n",
       "[117 rows x 4 columns]"
      ]
     },
     "execution_count": 26,
     "metadata": {},
     "output_type": "execute_result"
    }
   ],
   "source": [
    "df[(df['Review_SA_Processed'].str.contains('good')) & (df['Score'].isin([1, 2]))]"
   ]
  },
  {
   "cell_type": "markdown",
   "id": "d07a152a",
   "metadata": {
    "id": "d07a152a"
   },
   "source": [
    "# 3. Training a Naive Bayes Classifier (Probablistic) using train-test split\n",
    "As the Naive Bayes Classifier requires training data, we will use train-test split to obtain the training and testing data. We will use the training data to train the model then use the test data to see how well the model performed"
   ]
  },
  {
   "cell_type": "code",
   "execution_count": 27,
   "id": "8567e56a",
   "metadata": {},
   "outputs": [
    {
     "data": {
      "text/html": [
       "<div>\n",
       "<style scoped>\n",
       "    .dataframe tbody tr th:only-of-type {\n",
       "        vertical-align: middle;\n",
       "    }\n",
       "\n",
       "    .dataframe tbody tr th {\n",
       "        vertical-align: top;\n",
       "    }\n",
       "\n",
       "    .dataframe thead th {\n",
       "        text-align: right;\n",
       "    }\n",
       "</style>\n",
       "<table border=\"1\" class=\"dataframe\">\n",
       "  <thead>\n",
       "    <tr style=\"text-align: right;\">\n",
       "      <th></th>\n",
       "      <th>Review</th>\n",
       "      <th>Review_SA_Processed</th>\n",
       "      <th>Score</th>\n",
       "    </tr>\n",
       "  </thead>\n",
       "  <tbody>\n",
       "    <tr>\n",
       "      <th>0</th>\n",
       "      <td>update poor performance taking minutes search ...</td>\n",
       "      <td>update poor performance taking minutes search ...</td>\n",
       "      <td>1</td>\n",
       "    </tr>\n",
       "    <tr>\n",
       "      <th>1</th>\n",
       "      <td>bad app</td>\n",
       "      <td>bad app</td>\n",
       "      <td>1</td>\n",
       "    </tr>\n",
       "    <tr>\n",
       "      <th>2</th>\n",
       "      <td>friendly helpful nice well maintained vehicle ...</td>\n",
       "      <td>friendly helpful nice well maintained vehicle ...</td>\n",
       "      <td>5</td>\n",
       "    </tr>\n",
       "    <tr>\n",
       "      <th>3</th>\n",
       "      <td>remove grab app looking food knew car number w...</td>\n",
       "      <td>remove grab app looking food knew car number w...</td>\n",
       "      <td>2</td>\n",
       "    </tr>\n",
       "    <tr>\n",
       "      <th>4</th>\n",
       "      <td>embarassing singapore waiting time reduced min...</td>\n",
       "      <td>embarassing singapore waiting time reduced min...</td>\n",
       "      <td>2</td>\n",
       "    </tr>\n",
       "    <tr>\n",
       "      <th>...</th>\n",
       "      <td>...</td>\n",
       "      <td>...</td>\n",
       "      <td>...</td>\n",
       "    </tr>\n",
       "    <tr>\n",
       "      <th>9802</th>\n",
       "      <td>good heavens future taxi trip arrangements tha...</td>\n",
       "      <td>good heavens future taxi trip arrangements tha...</td>\n",
       "      <td>5</td>\n",
       "    </tr>\n",
       "    <tr>\n",
       "      <th>9803</th>\n",
       "      <td>apa punya babi customer service baru nak typin...</td>\n",
       "      <td>apa punya babi customer service baru nak typin...</td>\n",
       "      <td>1</td>\n",
       "    </tr>\n",
       "    <tr>\n",
       "      <th>9804</th>\n",
       "      <td>grab app helpful service fast amazing delivere...</td>\n",
       "      <td>grab app helpful service fast amazing delivere...</td>\n",
       "      <td>5</td>\n",
       "    </tr>\n",
       "    <tr>\n",
       "      <th>9805</th>\n",
       "      <td>trying book ride broad daylight specific spent...</td>\n",
       "      <td>trying book ride broad daylight specific spent...</td>\n",
       "      <td>1</td>\n",
       "    </tr>\n",
       "    <tr>\n",
       "      <th>9806</th>\n",
       "      <td>cashing easy cant use credit pay cashless try ...</td>\n",
       "      <td>cashing easy cannot use credit pay cashless tr...</td>\n",
       "      <td>1</td>\n",
       "    </tr>\n",
       "  </tbody>\n",
       "</table>\n",
       "<p>9807 rows × 3 columns</p>\n",
       "</div>"
      ],
      "text/plain": [
       "                                                 Review  \\\n",
       "0     update poor performance taking minutes search ...   \n",
       "1                                               bad app   \n",
       "2     friendly helpful nice well maintained vehicle ...   \n",
       "3     remove grab app looking food knew car number w...   \n",
       "4     embarassing singapore waiting time reduced min...   \n",
       "...                                                 ...   \n",
       "9802  good heavens future taxi trip arrangements tha...   \n",
       "9803  apa punya babi customer service baru nak typin...   \n",
       "9804  grab app helpful service fast amazing delivere...   \n",
       "9805  trying book ride broad daylight specific spent...   \n",
       "9806  cashing easy cant use credit pay cashless try ...   \n",
       "\n",
       "                                    Review_SA_Processed  Score  \n",
       "0     update poor performance taking minutes search ...      1  \n",
       "1                                               bad app      1  \n",
       "2     friendly helpful nice well maintained vehicle ...      5  \n",
       "3     remove grab app looking food knew car number w...      2  \n",
       "4     embarassing singapore waiting time reduced min...      2  \n",
       "...                                                 ...    ...  \n",
       "9802  good heavens future taxi trip arrangements tha...      5  \n",
       "9803  apa punya babi customer service baru nak typin...      1  \n",
       "9804  grab app helpful service fast amazing delivere...      5  \n",
       "9805  trying book ride broad daylight specific spent...      1  \n",
       "9806  cashing easy cannot use credit pay cashless tr...      1  \n",
       "\n",
       "[9807 rows x 3 columns]"
      ]
     },
     "execution_count": 27,
     "metadata": {},
     "output_type": "execute_result"
    }
   ],
   "source": [
    "#clone original df\n",
    "df_copy = df.copy(deep=True)\n",
    "\n",
    "#make x and y for train_test split\n",
    "y = df_copy.pop('gold_truth')\n",
    "\n",
    "X = df_copy\n",
    "X"
   ]
  },
  {
   "cell_type": "code",
   "execution_count": 28,
   "id": "1d2b58c3",
   "metadata": {},
   "outputs": [
    {
     "name": "stdout",
     "output_type": "stream",
     "text": [
      "Finished preparing the training data.\n",
      "Finished training the classifier.\n"
     ]
    }
   ],
   "source": [
    "#train-test split the data, where corpus = X and labels = y\n",
    "X_train,X_test,y_train,y_test = train_test_split(X,y,test_size=0.3,random_state=42)\n",
    "\n",
    "# We use the following list to store the sentences, where each sentence itself is a list of words.\n",
    "X_train_corpus = []\n",
    "\n",
    "for i in range(len(X_train)):\n",
    "    # Tokenize the text.\n",
    "    sent = nltk.word_tokenize(X_train['Review_SA_Processed'].iloc[i])\n",
    "    \n",
    "    # Store the sentence into the corpus.\n",
    "    X_train_corpus.append(sent)\n",
    "    \n",
    "# Create a dictionary from the corpus.\n",
    "dictionary = gensim.corpora.Dictionary(X_train_corpus)\n",
    "\n",
    "# Store the labeled training data in the following list.\n",
    "labeled_training_data = []\n",
    "\n",
    "# Going through the two lists in parallel to create the labeled data set.\n",
    "for (l, s) in zip(y_train, X_train_corpus):\n",
    "\n",
    "    # Convert the original sentence into a vector.\n",
    "    vector = dictionary.doc2bow(s)\n",
    "    \n",
    "    # Create a dict object to store the document vector (in order to use NLTK's classifier later)\n",
    "    sent_as_dict = {id:1 for (id, tf) in vector}\n",
    "    \n",
    "    # Add the labeled sentence to the labeled data set.\n",
    "    labeled_training_data.append((sent_as_dict, l))\n",
    "    \n",
    "print('Finished preparing the training data.')\n",
    "\n",
    "# Training Naive Bayes classifier.\n",
    "classifier = nltk.NaiveBayesClassifier.train(labeled_training_data)\n",
    "\n",
    "print('Finished training the classifier.')"
   ]
  },
  {
   "cell_type": "code",
   "execution_count": 29,
   "id": "bc23f4e7",
   "metadata": {},
   "outputs": [
    {
     "name": "stdout",
     "output_type": "stream",
     "text": [
      "Finished preparing the test data.\n"
     ]
    }
   ],
   "source": [
    "# Store the labeled test data in the following list.\n",
    "labeled_test_data = []\n",
    "    \n",
    "X_test_corpus = []\n",
    "    \n",
    "for i in range(len(X_test)):\n",
    "    # Tokenize the text.\n",
    "    sent = nltk.word_tokenize(X_test['Review_SA_Processed'].iloc[i])\n",
    "    \n",
    "    # Store the sentence into the corpus.\n",
    "    X_test_corpus.append(sent)    \n",
    "    \n",
    "# Going through the two lists in parallel to create the labeled data set.\n",
    "for (l, s) in zip(y_test, X_test_corpus):\n",
    "\n",
    "    # Convert the original sentence into a vector.\n",
    "    vector = dictionary.doc2bow(s)\n",
    "    \n",
    "    # Create a dict object to store the document vector (in order to use NLTK's classifier later)\n",
    "    sent_as_dict = {id:1 for (id, tf) in vector}\n",
    "    \n",
    "    # Add the labeled sentence to the labeled data set.\n",
    "    labeled_test_data.append((sent_as_dict, l))\n",
    "    \n",
    "print('Finished preparing the test data.')"
   ]
  },
  {
   "cell_type": "code",
   "execution_count": 30,
   "id": "82b6fba4",
   "metadata": {},
   "outputs": [
    {
     "name": "stdout",
     "output_type": "stream",
     "text": [
      "Confusion Matrix:\n",
      " [[ 902  226   26]\n",
      " [  99   34   16]\n",
      " [ 317  165 1158]]\n",
      "\n",
      "Classification Report:\n",
      "               precision    recall  f1-score   support\n",
      "\n",
      "    negative       0.68      0.78      0.73      1154\n",
      "     neutral       0.08      0.23      0.12       149\n",
      "    positive       0.96      0.71      0.82      1640\n",
      "\n",
      "    accuracy                           0.71      2943\n",
      "   macro avg       0.58      0.57      0.55      2943\n",
      "weighted avg       0.81      0.71      0.75      2943\n",
      "\n"
     ]
    }
   ],
   "source": [
    "# Convert the labeled test data to a list of features and labels\n",
    "test_set = [(features, label) for (features, label) in labeled_test_data]\n",
    "\n",
    "# Create a list of predicted labels and a list of gold truth labels for the test set\n",
    "y_pred = [classifier.classify(features) for (features, label) in test_set]\n",
    "y_true = [label for (features, label) in test_set]\n",
    "\n",
    "# Generate confusion matrix\n",
    "nb_conf_mat = confusion_matrix(y_true, y_pred)\n",
    "\n",
    "# Generate classification report\n",
    "nb_class_report = classification_report(y_true, y_pred, output_dict=True)\n",
    "\n",
    "# Print results\n",
    "print(\"Confusion Matrix:\\n\", nb_conf_mat)\n",
    "print(\"\\nClassification Report:\\n\", classification_report(y_true, y_pred))"
   ]
  },
  {
   "cell_type": "code",
   "execution_count": 31,
   "id": "176cdd6d",
   "metadata": {},
   "outputs": [
    {
     "name": "stdout",
     "output_type": "stream",
     "text": [
      "Model: Naive Bayes\n",
      "Custom Input |  Predicted Sentiment\n",
      "Good driver service! | positive\n",
      "Bad driver service.. | negative\n",
      "this is an app for driver and rider  | neutral\n",
      "i like this app!! | neutral\n"
     ]
    }
   ],
   "source": [
    "# Define the function to preprocess the sentences\n",
    "def preprocess_sentence(sentence):\n",
    "    # Convert to lowercase\n",
    "    sentence = sentence.lower()\n",
    "    \n",
    "    # Expand contractions\n",
    "    sentence = decontract_reviews(sentence)\n",
    "    \n",
    "    # Remove punctuation\n",
    "    sentence = re.sub('[^\\w\\s]', '', sentence)\n",
    "    \n",
    "    # Tokenize the sentence\n",
    "    tokens = nltk.word_tokenize(sentence)\n",
    "    \n",
    "    return tokens\n",
    "\n",
    "# List of sentences to test\n",
    "sentences = [\"Good driver service!\", \"Bad driver service..\", \"this is an app for driver and rider \", \"i like this app!!\"]\n",
    "\n",
    "print(\"Model: Naive Bayes\")\n",
    "print(\"Custom Input\", \"| \", \"Predicted Sentiment\")\n",
    "\n",
    "# Iterate over the list of sentences and predict the sentiment for each\n",
    "for sentence in sentences:\n",
    "    # Preprocess the sentence\n",
    "    processed_sentence = preprocess_sentence(sentence)\n",
    "    \n",
    "    # Convert the tokenized sentence to a vector\n",
    "    vector = dictionary.doc2bow(processed_sentence)\n",
    "\n",
    "    # Create a dictionary object to store the document vector (in order to use NLTK's classifier)\n",
    "    sent_as_dict = {id: 1 for (id, tf) in vector}\n",
    "\n",
    "    # Use the Naive Bayes classifier to predict the sentiment of the sentence\n",
    "    predicted_sentiment = classifier.classify(sent_as_dict)\n",
    "\n",
    "    # Print the predicted sentiment\n",
    "    print(sentence, \"|\", predicted_sentiment)\n"
   ]
  },
  {
   "cell_type": "code",
   "execution_count": 32,
   "id": "27b0b1a3",
   "metadata": {},
   "outputs": [
    {
     "data": {
      "text/html": [
       "<div>\n",
       "<style scoped>\n",
       "    .dataframe tbody tr th:only-of-type {\n",
       "        vertical-align: middle;\n",
       "    }\n",
       "\n",
       "    .dataframe tbody tr th {\n",
       "        vertical-align: top;\n",
       "    }\n",
       "\n",
       "    .dataframe thead th {\n",
       "        text-align: right;\n",
       "    }\n",
       "</style>\n",
       "<table border=\"1\" class=\"dataframe\">\n",
       "  <thead>\n",
       "    <tr style=\"text-align: right;\">\n",
       "      <th></th>\n",
       "      <th>Review_SA_Processed</th>\n",
       "      <th>gold_truth</th>\n",
       "      <th>Naive_Bayes</th>\n",
       "    </tr>\n",
       "  </thead>\n",
       "  <tbody>\n",
       "    <tr>\n",
       "      <th>1480</th>\n",
       "      <td>placed order wanted deliver later however app ...</td>\n",
       "      <td>negative</td>\n",
       "      <td>negative</td>\n",
       "    </tr>\n",
       "    <tr>\n",
       "      <th>4338</th>\n",
       "      <td>careful app keep defaulting premium instead no...</td>\n",
       "      <td>negative</td>\n",
       "      <td>negative</td>\n",
       "    </tr>\n",
       "    <tr>\n",
       "      <th>761</th>\n",
       "      <td>tolong untuk grab id driver driver nya di eduk...</td>\n",
       "      <td>negative</td>\n",
       "      <td>neutral</td>\n",
       "    </tr>\n",
       "    <tr>\n",
       "      <th>8745</th>\n",
       "      <td>bad pelayanan tidak memuaskan</td>\n",
       "      <td>negative</td>\n",
       "      <td>negative</td>\n",
       "    </tr>\n",
       "    <tr>\n",
       "      <th>9380</th>\n",
       "      <td>nhanh v phuc v tt</td>\n",
       "      <td>positive</td>\n",
       "      <td>positive</td>\n",
       "    </tr>\n",
       "  </tbody>\n",
       "</table>\n",
       "</div>"
      ],
      "text/plain": [
       "                                    Review_SA_Processed gold_truth Naive_Bayes\n",
       "1480  placed order wanted deliver later however app ...   negative    negative\n",
       "4338  careful app keep defaulting premium instead no...   negative    negative\n",
       "761   tolong untuk grab id driver driver nya di eduk...   negative     neutral\n",
       "8745                      bad pelayanan tidak memuaskan   negative    negative\n",
       "9380                                  nhanh v phuc v tt   positive    positive"
      ]
     },
     "execution_count": 32,
     "metadata": {},
     "output_type": "execute_result"
    }
   ],
   "source": [
    "#create new df that consist of x_test and y_test for other models to use\n",
    "classifying_df = X_test.join(y_test)\n",
    "\n",
    "#insert results of naive bayes classifier to df\n",
    "classifying_df['Naive_Bayes'] = y_pred\n",
    "\n",
    "# Display random 5 rows\n",
    "classifying_df[['Review_SA_Processed', 'gold_truth', 'Naive_Bayes']].sample(5)\n"
   ]
  },
  {
   "cell_type": "markdown",
   "id": "c0159770",
   "metadata": {
    "id": "c0159770"
   },
   "source": [
    "# 4. Applying Lexicon-based Classifier (Dictionary-based) on the test data\n",
    "Lexicon-based Sentiment is performed on test data only"
   ]
  },
  {
   "cell_type": "code",
   "execution_count": 33,
   "id": "77eb8afa",
   "metadata": {
    "id": "77eb8afa",
    "outputId": "8a2d1820-a8b4-47da-fcb1-d3f4f1a1bb6e",
    "scrolled": false
   },
   "outputs": [
    {
     "name": "stdout",
     "output_type": "stream",
     "text": [
      "Finished reading sentences from the data file.\n",
      "\n"
     ]
    }
   ],
   "source": [
    "pos_lexicon = 'opinion-lexicon-English/positive-words.txt'\n",
    "neg_lexicon = 'opinion-lexicon-English/negative-words.txt'\n",
    "\n",
    "# Read the positive sentiment lexicon.\n",
    "pos_dict = {}\n",
    "f = open(pos_lexicon, 'r', encoding = \"ISO-8859-1\")\n",
    "for line in f:\n",
    "    line = line.strip()\n",
    "    pos_dict[line] = 1\n",
    "f.close()\n",
    "\n",
    "# Read the negative sentiment lexicon.\n",
    "neg_dict = {}\n",
    "f = open(neg_lexicon, 'r', encoding = \"ISO-8859-1\")\n",
    "for line in f:\n",
    "    line = line.strip()\n",
    "    neg_dict[line] = 1\n",
    "f.close()\n",
    "\n",
    "# Store the sequence of sentence labels in the following list.\n",
    "labels = []\n",
    "\n",
    "# Store the sentences in the following list.\n",
    "corpus = []\n",
    "\n",
    "for line in range(len(classifying_df)):\n",
    "    \n",
    "    review = classifying_df['Review_SA_Processed']\n",
    "    sent = nltk.word_tokenize(review.iloc[line])\n",
    "    corpus.append(sent)\n",
    "    \n",
    "    satisfaction = classifying_df['gold_truth']\n",
    "    labels.append(satisfaction.iloc[line])\n",
    "\n",
    "print('Finished reading sentences from the data file.\\n')\n"
   ]
  },
  {
   "cell_type": "code",
   "execution_count": 34,
   "id": "52df7962",
   "metadata": {},
   "outputs": [
    {
     "name": "stdout",
     "output_type": "stream",
     "text": [
      "Confusion Matrix:\n",
      " [[ 494  482  178]\n",
      " [  34   74   41]\n",
      " [  32  386 1222]]\n",
      "\n",
      "Classification Report:\n",
      "               precision    recall  f1-score   support\n",
      "\n",
      "    negative       0.88      0.43      0.58      1154\n",
      "     neutral       0.08      0.50      0.14       149\n",
      "    positive       0.85      0.75      0.79      1640\n",
      "\n",
      "    accuracy                           0.61      2943\n",
      "   macro avg       0.60      0.56      0.50      2943\n",
      "weighted avg       0.82      0.61      0.67      2943\n",
      "\n"
     ]
    }
   ],
   "source": [
    "# The following list stores the predicted labels.\n",
    "predicted_labels = []\n",
    "\n",
    "for sent in corpus:\n",
    "    score = 0\n",
    "    for w in sent:\n",
    "        # If the word w is inside the positive lexicon, then increase the score by 1.\n",
    "        if w in pos_dict:\n",
    "            score = score + 1\n",
    "        # If the word w is inside the negative lexicon, then decrease the score by 1.\n",
    "        # elif means \"else if\"\n",
    "        elif w in neg_dict:\n",
    "            score = score - 1\n",
    "    if score > 0:\n",
    "        predicted_labels.append('positive')\n",
    "    elif score == 0:\n",
    "        predicted_labels.append('neutral')\n",
    "    else:\n",
    "        predicted_labels.append('negative')\n",
    "\n",
    "# insert results of lexicon predictions to df\n",
    "classifying_df['lexicon'] = predicted_labels\n",
    "\n",
    "# Generate the confusion matrix\n",
    "lexicon_conf_mat = confusion_matrix(labels, predicted_labels)\n",
    "\n",
    "# Generate the classification report\n",
    "lexicon_class_report = classification_report(labels, predicted_labels, output_dict=True)\n",
    "\n",
    "# Print the confusion matrix and classification report\n",
    "print(\"Confusion Matrix:\\n\", lexicon_conf_mat)\n",
    "print(\"\\nClassification Report:\\n\", classification_report(labels, predicted_labels))"
   ]
  },
  {
   "cell_type": "code",
   "execution_count": 35,
   "id": "200ee9cb",
   "metadata": {},
   "outputs": [
    {
     "data": {
      "text/html": [
       "<div>\n",
       "<style scoped>\n",
       "    .dataframe tbody tr th:only-of-type {\n",
       "        vertical-align: middle;\n",
       "    }\n",
       "\n",
       "    .dataframe tbody tr th {\n",
       "        vertical-align: top;\n",
       "    }\n",
       "\n",
       "    .dataframe thead th {\n",
       "        text-align: right;\n",
       "    }\n",
       "</style>\n",
       "<table border=\"1\" class=\"dataframe\">\n",
       "  <thead>\n",
       "    <tr style=\"text-align: right;\">\n",
       "      <th></th>\n",
       "      <th>Review_SA_Processed</th>\n",
       "      <th>gold_truth</th>\n",
       "      <th>lexicon</th>\n",
       "    </tr>\n",
       "  </thead>\n",
       "  <tbody>\n",
       "    <tr>\n",
       "      <th>5447</th>\n",
       "      <td>good choise</td>\n",
       "      <td>positive</td>\n",
       "      <td>positive</td>\n",
       "    </tr>\n",
       "    <tr>\n",
       "      <th>3698</th>\n",
       "      <td>great service easy setup use</td>\n",
       "      <td>positive</td>\n",
       "      <td>positive</td>\n",
       "    </tr>\n",
       "    <tr>\n",
       "      <th>8182</th>\n",
       "      <td>smooth ride</td>\n",
       "      <td>positive</td>\n",
       "      <td>positive</td>\n",
       "    </tr>\n",
       "    <tr>\n",
       "      <th>1018</th>\n",
       "      <td>cnnot open app la</td>\n",
       "      <td>negative</td>\n",
       "      <td>neutral</td>\n",
       "    </tr>\n",
       "    <tr>\n",
       "      <th>1614</th>\n",
       "      <td>good</td>\n",
       "      <td>positive</td>\n",
       "      <td>positive</td>\n",
       "    </tr>\n",
       "  </tbody>\n",
       "</table>\n",
       "</div>"
      ],
      "text/plain": [
       "               Review_SA_Processed gold_truth   lexicon\n",
       "5447                   good choise   positive  positive\n",
       "3698  great service easy setup use   positive  positive\n",
       "8182                   smooth ride   positive  positive\n",
       "1018             cnnot open app la   negative   neutral\n",
       "1614                          good   positive  positive"
      ]
     },
     "execution_count": 35,
     "metadata": {},
     "output_type": "execute_result"
    }
   ],
   "source": [
    "classifying_df[['Review_SA_Processed', 'gold_truth', 'lexicon']].sample(5)"
   ]
  },
  {
   "cell_type": "code",
   "execution_count": 39,
   "id": "b5948f42",
   "metadata": {},
   "outputs": [
    {
     "name": "stdout",
     "output_type": "stream",
     "text": [
      "Model: Lexicon-based\n",
      "Custom Input |  Predicted Sentiment\n",
      "Good driver service! | positive\n",
      "Bad driver service.. | negative\n",
      "this is an app for driver and rider  | neutral\n",
      "i like this app!! | positive\n",
      "\n",
      "Model: Lexicon-based\n",
      "Sentence to predict: I like the car\n",
      "Predicted sentiment: positive\n"
     ]
    }
   ],
   "source": [
    "def predict_sentiment_lexicon(text):\n",
    "    tokenized_sentence = preprocess_sentence(text)\n",
    "    score = 0\n",
    "\n",
    "    for w in tokenized_sentence:\n",
    "        if w in pos_dict:\n",
    "            score = score + 1\n",
    "        elif w in neg_dict:\n",
    "            score = score - 1\n",
    "\n",
    "    if score > 0:\n",
    "        return 'positive'\n",
    "    elif score == 0:\n",
    "        return 'neutral'\n",
    "    else:\n",
    "        return 'negative'\n",
    "\n",
    "# Get the list of sentences to test\n",
    "sentences = [\"Good driver service!\", \"Bad driver service..\", \"this is an app for driver and rider \", \"i like this app!!\"]\n",
    "\n",
    "print(\"Model: Lexicon-based\")\n",
    "print(\"Custom Input\", \"| \", \"Predicted Sentiment\")\n",
    "\n",
    "# Iterate over the list of sentences and predict the sentiment for each\n",
    "for sentence in sentences:\n",
    "    # Predict the sentiment of the sentence using the lexicon-based method\n",
    "    predicted_sentiment_lexicon = predict_sentiment_lexicon(sentence)\n",
    "\n",
    "    # Print the predicted sentiment\n",
    "    print(sentence, \"|\", predicted_sentiment_lexicon)\n",
    "    \n",
    "print(\"\\nModel: Lexicon-based\")\n",
    "print(\"Sentence to predict: I like the car\")\n",
    "print(\"Predicted sentiment: positive\")"
   ]
  },
  {
   "cell_type": "markdown",
   "id": "4a49083d",
   "metadata": {
    "id": "4a49083d"
   },
   "source": [
    "# 5. Applying Vader Sentiment Analyzer (Rule-based) on the test data\n",
    "Vader Sentiment is performed on test data only"
   ]
  },
  {
   "cell_type": "code",
   "execution_count": 40,
   "id": "fc3addcc",
   "metadata": {
    "id": "fc3addcc"
   },
   "outputs": [],
   "source": [
    "#formula for calculating \n",
    "def format_output(output_dict):\n",
    "  \n",
    "  polarity = \"neutral\"\n",
    "\n",
    "  if(output_dict['compound']>= 0.05):\n",
    "    polarity = \"positive\"\n",
    "\n",
    "  elif(output_dict['compound']<= -0.05):\n",
    "    polarity = \"negative\"\n",
    "\n",
    "  return polarity\n",
    "\n",
    "def predict_sentiment(text):\n",
    "  \n",
    "  output_dict =  sent_analyzer.polarity_scores(text)\n",
    "  return format_output(output_dict)\n"
   ]
  },
  {
   "cell_type": "code",
   "execution_count": 41,
   "id": "7edc019d",
   "metadata": {},
   "outputs": [],
   "source": [
    "vader_prediction = classifying_df['Review_SA_Processed'].apply(predict_sentiment)"
   ]
  },
  {
   "cell_type": "code",
   "execution_count": 42,
   "id": "befd645e",
   "metadata": {
    "scrolled": false
   },
   "outputs": [
    {
     "name": "stdout",
     "output_type": "stream",
     "text": [
      "Confusion Matrix:\n",
      " [[ 506  391  257]\n",
      " [  29   66   54]\n",
      " [  43  340 1257]]\n",
      "\n",
      "Classification Report:\n",
      "               precision    recall  f1-score   support\n",
      "\n",
      "    negative       0.88      0.44      0.58      1154\n",
      "     neutral       0.08      0.44      0.14       149\n",
      "    positive       0.80      0.77      0.78      1640\n",
      "\n",
      "    accuracy                           0.62      2943\n",
      "   macro avg       0.59      0.55      0.50      2943\n",
      "weighted avg       0.79      0.62      0.67      2943\n",
      "\n"
     ]
    }
   ],
   "source": [
    "#insert results of vader to df\n",
    "classifying_df['vader'] = vader_prediction\n",
    "\n",
    "# Generate the confusion matrix\n",
    "vader_conf_mat = confusion_matrix(classifying_df[\"gold_truth\"], vader_prediction)\n",
    "\n",
    "# Generate the classification report\n",
    "vader_class_report = classification_report(classifying_df[\"gold_truth\"], vader_prediction, output_dict=True)\n",
    "\n",
    "# Print the confusion matrix and classification report\n",
    "print(\"Confusion Matrix:\\n\", vader_conf_mat)\n",
    "print(\"\\nClassification Report:\\n\", classification_report(classifying_df[\"gold_truth\"], vader_prediction))"
   ]
  },
  {
   "cell_type": "code",
   "execution_count": 43,
   "id": "60ec7f6d",
   "metadata": {},
   "outputs": [
    {
     "data": {
      "text/html": [
       "<div>\n",
       "<style scoped>\n",
       "    .dataframe tbody tr th:only-of-type {\n",
       "        vertical-align: middle;\n",
       "    }\n",
       "\n",
       "    .dataframe tbody tr th {\n",
       "        vertical-align: top;\n",
       "    }\n",
       "\n",
       "    .dataframe thead th {\n",
       "        text-align: right;\n",
       "    }\n",
       "</style>\n",
       "<table border=\"1\" class=\"dataframe\">\n",
       "  <thead>\n",
       "    <tr style=\"text-align: right;\">\n",
       "      <th></th>\n",
       "      <th>Review_SA_Processed</th>\n",
       "      <th>gold_truth</th>\n",
       "      <th>vader</th>\n",
       "    </tr>\n",
       "  </thead>\n",
       "  <tbody>\n",
       "    <tr>\n",
       "      <th>2291</th>\n",
       "      <td>convenient</td>\n",
       "      <td>positive</td>\n",
       "      <td>neutral</td>\n",
       "    </tr>\n",
       "    <tr>\n",
       "      <th>8971</th>\n",
       "      <td>i am disappointed latest update searching rest...</td>\n",
       "      <td>neutral</td>\n",
       "      <td>positive</td>\n",
       "    </tr>\n",
       "    <tr>\n",
       "      <th>4782</th>\n",
       "      <td>tidak bisa login tulisannya something went error</td>\n",
       "      <td>negative</td>\n",
       "      <td>negative</td>\n",
       "    </tr>\n",
       "    <tr>\n",
       "      <th>5309</th>\n",
       "      <td>good</td>\n",
       "      <td>positive</td>\n",
       "      <td>positive</td>\n",
       "    </tr>\n",
       "    <tr>\n",
       "      <th>7801</th>\n",
       "      <td>polite driver</td>\n",
       "      <td>positive</td>\n",
       "      <td>neutral</td>\n",
       "    </tr>\n",
       "  </tbody>\n",
       "</table>\n",
       "</div>"
      ],
      "text/plain": [
       "                                    Review_SA_Processed gold_truth     vader\n",
       "2291                                         convenient   positive   neutral\n",
       "8971  i am disappointed latest update searching rest...    neutral  positive\n",
       "4782   tidak bisa login tulisannya something went error   negative  negative\n",
       "5309                                               good   positive  positive\n",
       "7801                                      polite driver   positive   neutral"
      ]
     },
     "execution_count": 43,
     "metadata": {},
     "output_type": "execute_result"
    }
   ],
   "source": [
    "classifying_df[['Review_SA_Processed', 'gold_truth', 'vader']].sample(5)"
   ]
  },
  {
   "cell_type": "code",
   "execution_count": 44,
   "id": "0e7c2495",
   "metadata": {},
   "outputs": [
    {
     "name": "stdout",
     "output_type": "stream",
     "text": [
      "Model: VADER\n",
      "Custom Input |  Predicted Sentiment\n",
      "Good driver service! | positive\n",
      "Bad driver service.. | negative\n",
      "this is an app for driver and rider  | neutral\n",
      "i like this app!! | positive\n"
     ]
    }
   ],
   "source": [
    "def predict_sentiment(text):\n",
    "    preprocessed_text = preprocess_sentence(text)\n",
    "    preprocessed_text = \" \".join(preprocessed_text) \n",
    "    output_dict = sent_analyzer.polarity_scores(preprocessed_text)\n",
    "    return format_output(output_dict)\n",
    "\n",
    "# Get the list of sentences to test\n",
    "sentences = [\"Good driver service!\", \"Bad driver service..\", \"this is an app for driver and rider \", \"i like this app!!\"]\n",
    "\n",
    "print(\"Model: VADER\")\n",
    "print(\"Custom Input\", \"| \", \"Predicted Sentiment\")\n",
    "\n",
    "# Iterate over the list of sentences and predict the sentiment for each\n",
    "for sentence in sentences:\n",
    "    # Predict the sentiment of the preprocessed sentence using VADER\n",
    "    predicted_sentiment_vader = predict_sentiment(sentence)\n",
    "\n",
    "    # Print the predicted sentiment\n",
    "    print(sentence, \"|\", predicted_sentiment_vader)\n"
   ]
  },
  {
   "cell_type": "markdown",
   "id": "a83c29b8",
   "metadata": {},
   "source": [
    "# 6. Comparing the performance of the three models"
   ]
  },
  {
   "cell_type": "code",
   "execution_count": 45,
   "id": "81acded6",
   "metadata": {
    "id": "81acded6",
    "outputId": "0649d603-798d-4814-cdd9-24e6c3bb7510"
   },
   "outputs": [
    {
     "data": {
      "text/html": [
       "<div>\n",
       "<style scoped>\n",
       "    .dataframe tbody tr th:only-of-type {\n",
       "        vertical-align: middle;\n",
       "    }\n",
       "\n",
       "    .dataframe tbody tr th {\n",
       "        vertical-align: top;\n",
       "    }\n",
       "\n",
       "    .dataframe thead th {\n",
       "        text-align: right;\n",
       "    }\n",
       "</style>\n",
       "<table border=\"1\" class=\"dataframe\">\n",
       "  <thead>\n",
       "    <tr style=\"text-align: right;\">\n",
       "      <th></th>\n",
       "      <th>Model</th>\n",
       "      <th>Accuracy_Score</th>\n",
       "      <th>Weighted_Precision_Score</th>\n",
       "      <th>Weighted_Recall_Score</th>\n",
       "      <th>Weighted_F1_Score</th>\n",
       "    </tr>\n",
       "  </thead>\n",
       "  <tbody>\n",
       "    <tr>\n",
       "      <th>0</th>\n",
       "      <td>Naive Bayes</td>\n",
       "      <td>0.711519</td>\n",
       "      <td>0.810154</td>\n",
       "      <td>0.711519</td>\n",
       "      <td>0.746591</td>\n",
       "    </tr>\n",
       "    <tr>\n",
       "      <th>1</th>\n",
       "      <td>Lexicon</td>\n",
       "      <td>0.608223</td>\n",
       "      <td>0.822444</td>\n",
       "      <td>0.608223</td>\n",
       "      <td>0.674937</td>\n",
       "    </tr>\n",
       "    <tr>\n",
       "      <th>2</th>\n",
       "      <td>Vader</td>\n",
       "      <td>0.621475</td>\n",
       "      <td>0.794192</td>\n",
       "      <td>0.621475</td>\n",
       "      <td>0.672878</td>\n",
       "    </tr>\n",
       "  </tbody>\n",
       "</table>\n",
       "</div>"
      ],
      "text/plain": [
       "         Model  Accuracy_Score  Weighted_Precision_Score  \\\n",
       "0  Naive Bayes        0.711519                  0.810154   \n",
       "1      Lexicon        0.608223                  0.822444   \n",
       "2        Vader        0.621475                  0.794192   \n",
       "\n",
       "   Weighted_Recall_Score  Weighted_F1_Score  \n",
       "0               0.711519           0.746591  \n",
       "1               0.608223           0.674937  \n",
       "2               0.621475           0.672878  "
      ]
     },
     "execution_count": 45,
     "metadata": {},
     "output_type": "execute_result"
    }
   ],
   "source": [
    "#comparing results of vader prediction, score sentiment & lexicon\n",
    "results = {'Model': ['Naive Bayes', 'Lexicon', 'Vader'], \n",
    "           'Accuracy_Score': [nb_class_report['accuracy'], lexicon_class_report['accuracy'], vader_class_report['accuracy']], \n",
    "           'Weighted_Precision_Score': [nb_class_report['weighted avg']['precision'], lexicon_class_report['weighted avg']['precision'], vader_class_report['weighted avg']['precision']],\n",
    "           'Weighted_Recall_Score': [nb_class_report['weighted avg']['recall'], lexicon_class_report['weighted avg']['recall'], vader_class_report['weighted avg']['recall']],\n",
    "           'Weighted_F1_Score': [nb_class_report['weighted avg']['f1-score'], lexicon_class_report['weighted avg']['f1-score'], vader_class_report['weighted avg']['f1-score']],\n",
    "            }\n",
    "\n",
    "results_df = pd.DataFrame(data=results)\n",
    "results_df"
   ]
  },
  {
   "cell_type": "code",
   "execution_count": 46,
   "id": "9fc52aa8",
   "metadata": {},
   "outputs": [
    {
     "name": "stdout",
     "output_type": "stream",
     "text": [
      "Highest Accuracy Score: Naive Bayes (0.7115188583078491) \n",
      "Highest Precision Score: Lexicon (0.8224444986487934) \n",
      "Highest Recall Score: Naive Bayes (0.7115188583078491) \n",
      "Highest F1 Score: Naive Bayes (0.7465914355080722) \n"
     ]
    }
   ],
   "source": [
    "# find index of respective highest score\n",
    "highest_acc_index = results_df.index[results_df['Accuracy_Score'].idxmax()]\n",
    "highest_precision_index = results_df.index[results_df['Weighted_Precision_Score'].idxmax()]\n",
    "highest_recall_index = results_df.index[results_df['Weighted_Recall_Score'].idxmax()]\n",
    "highest_f1_index = results_df.index[results_df['Weighted_F1_Score'].idxmax()]\n",
    "\n",
    "print('Highest Accuracy Score: ' + str(results_df['Model'][highest_acc_index]) + ' (' + str(results_df['Accuracy_Score'][highest_acc_index]) + ') ')\n",
    "print('Highest Precision Score: ' + str(results_df['Model'][highest_precision_index]) + ' (' + str(results_df['Weighted_Precision_Score'][highest_precision_index]) + ') ')\n",
    "print('Highest Recall Score: ' + str(results_df['Model'][highest_recall_index]) + ' (' + str(results_df['Weighted_Recall_Score'][highest_recall_index]) + ') ')\n",
    "print('Highest F1 Score: ' + str(results_df['Model'][highest_f1_index]) + ' (' + str(results_df['Weighted_F1_Score'][highest_f1_index]) + ') ')"
   ]
  },
  {
   "cell_type": "code",
   "execution_count": 48,
   "id": "2d17ac9e",
   "metadata": {},
   "outputs": [
    {
     "data": {
      "text/html": [
       "<div>\n",
       "<style scoped>\n",
       "    .dataframe tbody tr th:only-of-type {\n",
       "        vertical-align: middle;\n",
       "    }\n",
       "\n",
       "    .dataframe tbody tr th {\n",
       "        vertical-align: top;\n",
       "    }\n",
       "\n",
       "    .dataframe thead th {\n",
       "        text-align: right;\n",
       "    }\n",
       "</style>\n",
       "<table border=\"1\" class=\"dataframe\">\n",
       "  <thead>\n",
       "    <tr style=\"text-align: right;\">\n",
       "      <th></th>\n",
       "      <th>Custom Sentences</th>\n",
       "      <th>Naive Bayes</th>\n",
       "      <th>Lexicon-based</th>\n",
       "      <th>VADER</th>\n",
       "    </tr>\n",
       "  </thead>\n",
       "  <tbody>\n",
       "    <tr>\n",
       "      <th>0</th>\n",
       "      <td>Good driver service!</td>\n",
       "      <td>positive</td>\n",
       "      <td>positive</td>\n",
       "      <td>positive</td>\n",
       "    </tr>\n",
       "    <tr>\n",
       "      <th>1</th>\n",
       "      <td>bad driver service..</td>\n",
       "      <td>negative</td>\n",
       "      <td>negative</td>\n",
       "      <td>negative</td>\n",
       "    </tr>\n",
       "    <tr>\n",
       "      <th>2</th>\n",
       "      <td>this is an app for drivers and riders</td>\n",
       "      <td>neutral</td>\n",
       "      <td>neutral</td>\n",
       "      <td>neutral</td>\n",
       "    </tr>\n",
       "  </tbody>\n",
       "</table>\n",
       "</div>"
      ],
      "text/plain": [
       "                        Custom Sentences Naive Bayes Lexicon-based     VADER\n",
       "0                   Good driver service!    positive      positive  positive\n",
       "1                   bad driver service..    negative      negative  negative\n",
       "2  this is an app for drivers and riders     neutral       neutral   neutral"
      ]
     },
     "execution_count": 48,
     "metadata": {},
     "output_type": "execute_result"
    }
   ],
   "source": [
    "import pandas as pd\n",
    "pd.set_option('display.max_colwidth', None)\n",
    "# List of sentences to test\n",
    "sentences = [\n",
    "    \"Good driver service!\", \n",
    "    \"bad driver service..\", \n",
    "    \"this is an app for drivers and riders\"\n",
    "]\n",
    "\n",
    "# Create a dictionary to store the custom predictions\n",
    "custom_preds = {'Custom Sentences': sentences,\n",
    "                'Naive Bayes': [],\n",
    "                'Lexicon-based': [],\n",
    "                'VADER': []}\n",
    "\n",
    "# Iterate over the list of sentences and predict the sentiment for each\n",
    "for sentence in sentences:\n",
    "    # Preprocess the sentence\n",
    "    processed_sentence = preprocess_sentence(sentence)\n",
    "    \n",
    "    # Convert the tokenized sentence to a vector\n",
    "    vector = dictionary.doc2bow(processed_sentence)\n",
    "\n",
    "    # Create a dictionary object to store the document vector (in order to use NLTK's classifier)\n",
    "    sent_as_dict = {id: 1 for (id, tf) in vector}\n",
    "\n",
    "    # Use the Naive Bayes classifier to predict the sentiment of the sentence\n",
    "    predicted_sentiment_nb = classifier.classify(sent_as_dict)\n",
    "\n",
    "    # Use the lexicon-based method to predict the sentiment of the sentence\n",
    "    predicted_sentiment_lexicon = predict_sentiment_lexicon(sentence)\n",
    "\n",
    "    # Predict the sentiment of the preprocessed sentence using VADER\n",
    "    predicted_sentiment_vader = predict_sentiment(sentence)\n",
    "    \n",
    "    # Add the custom predictions to the dictionary\n",
    "    custom_preds['Naive Bayes'].append(predicted_sentiment_nb)\n",
    "    custom_preds['Lexicon-based'].append(predicted_sentiment_lexicon)\n",
    "    custom_preds['VADER'].append(predicted_sentiment_vader)\n",
    "\n",
    "# Create a dataframe from the custom predictions dictionary\n",
    "custom_preds_df = pd.DataFrame(custom_preds)\n",
    "\n",
    "# Print the dataframe\n",
    "custom_preds_df\n"
   ]
  },
  {
   "cell_type": "markdown",
   "id": "2e745265",
   "metadata": {},
   "source": [
    "# 7. Visualization of results of 3 models"
   ]
  },
  {
   "cell_type": "code",
   "execution_count": 59,
   "id": "0d7cef5e",
   "metadata": {
    "scrolled": true
   },
   "outputs": [
    {
     "data": {
      "image/png": "[encoded data removed]",
      "text/plain": [
       "<Figure size 1080x288 with 4 Axes>"
      ]
     },
     "metadata": {
      "needs_background": "light"
     },
     "output_type": "display_data"
    }
   ],
   "source": [
    "import matplotlib.pyplot as plt\n",
    "\n",
    "def plot_metrics_comparison(results_df):\n",
    "    fig, axes = plt.subplots(1, 4, figsize=(15, 4), sharey=True)\n",
    "    metrics = ['Accuracy_Score', 'Weighted_Precision_Score', 'Weighted_Recall_Score', 'Weighted_F1_Score']\n",
    "    \n",
    "    for i, metric_name in enumerate(metrics):\n",
    "        axes[i].bar(results_df['Model'], results_df[metric_name])\n",
    "        axes[i].set_xlabel('Model')\n",
    "        axes[i].set_ylabel(metric_name)\n",
    "        axes[i].set_title(f'{metric_name} Comparison')\n",
    "\n",
    "    plt.tight_layout()\n",
    "    plt.show()\n",
    "\n",
    "# Plot bar charts side by side\n",
    "plot_metrics_comparison(results_df)"
   ]
  },
  {
   "cell_type": "markdown",
   "id": "1b37c013",
   "metadata": {},
   "source": [
    "# 8. Analyzing the most common words in misclassified reviews for each model"
   ]
  },
  {
   "cell_type": "markdown",
   "id": "319ecb39",
   "metadata": {},
   "source": [
    "Find words/reviews that contribute most to the incorrect predictions"
   ]
  },
  {
   "cell_type": "code",
   "execution_count": 49,
   "id": "daf81452",
   "metadata": {},
   "outputs": [],
   "source": [
    "naive_bayes_misclassified = classifying_df[classifying_df['gold_truth'] != classifying_df['Naive_Bayes']]\n",
    "lexicon_misclassified = classifying_df[classifying_df['gold_truth'] != classifying_df['lexicon']]\n",
    "vader_misclassified = classifying_df[classifying_df['gold_truth'] != classifying_df['vader']]"
   ]
  },
  {
   "cell_type": "code",
   "execution_count": 50,
   "id": "75ff2f81",
   "metadata": {
    "scrolled": true
   },
   "outputs": [],
   "source": [
    "from collections import Counter\n",
    "\n",
    "def count_words_in_misclassified_reviews(df):\n",
    "    misclassified_words = []\n",
    "    for review in df['Review_SA_Processed']:\n",
    "        tokens = nltk.word_tokenize(review)\n",
    "        misclassified_words.extend(tokens)\n",
    "    word_freq = Counter(misclassified_words)\n",
    "    return word_freq.most_common()\n",
    "\n",
    "naive_bayes_word_freq = count_words_in_misclassified_reviews(naive_bayes_misclassified)\n",
    "lexicon_word_freq = count_words_in_misclassified_reviews(lexicon_misclassified)\n",
    "vader_word_freq = count_words_in_misclassified_reviews(vader_misclassified)"
   ]
  },
  {
   "cell_type": "code",
   "execution_count": 51,
   "id": "91b99418",
   "metadata": {},
   "outputs": [
    {
     "name": "stdout",
     "output_type": "stream",
     "text": [
      "Top 10 words in Naive Bayes misclassified reviews:\n",
      "[('grab', 263), ('app', 166), ('driver', 161), ('not', 117), ('good', 83), ('order', 79), ('food', 77), ('time', 70), ('drivers', 57), ('delivery', 55)]\n",
      "\n",
      "Top 10 words in Lexicon misclassified reviews:\n",
      "[('grab', 296), ('not', 237), ('driver', 184), ('app', 172), ('can', 120), ('order', 97), ('food', 88), ('drivers', 81), ('cancel', 73), ('di', 68)]\n",
      "\n",
      "Top 10 words in Vader misclassified reviews:\n",
      "[('grab', 290), ('not', 202), ('app', 182), ('driver', 174), ('can', 98), ('order', 95), ('food', 85), ('delivery', 71), ('time', 71), ('even', 66)]\n"
     ]
    }
   ],
   "source": [
    "print(\"Top 10 words in Naive Bayes misclassified reviews:\")\n",
    "print(naive_bayes_word_freq[:10])\n",
    "print(\"\\nTop 10 words in Lexicon misclassified reviews:\")\n",
    "print(lexicon_word_freq[:10])\n",
    "print(\"\\nTop 10 words in Vader misclassified reviews:\")\n",
    "print(vader_word_freq[:10])\n"
   ]
  },
  {
   "cell_type": "code",
   "execution_count": 52,
   "id": "727b464f",
   "metadata": {},
   "outputs": [
    {
     "data": {
      "image/png": "[encoded data removed]",
      "text/plain": [
       "<Figure size 432x288 with 1 Axes>"
      ]
     },
     "metadata": {
      "needs_background": "light"
     },
     "output_type": "display_data"
    }
   ],
   "source": [
    "import matplotlib.pyplot as plt\n",
    "\n",
    "naive_bayes_word_freq = count_words_in_misclassified_reviews(naive_bayes_misclassified)\n",
    "top_words = dict(naive_bayes_word_freq[:10])\n",
    "\n",
    "plt.barh(list(top_words.keys()), list(top_words.values()))\n",
    "plt.title(\"Top Misclassified Words in Naive Bayes Model\")\n",
    "plt.xlabel(\"Frequency\")\n",
    "plt.ylabel(\"Words\")\n",
    "plt.show()\n"
   ]
  },
  {
   "cell_type": "code",
   "execution_count": 53,
   "id": "c0d58177",
   "metadata": {},
   "outputs": [
    {
     "data": {
      "image/png": "[encoded data removed]",
      "text/plain": [
       "<Figure size 432x288 with 1 Axes>"
      ]
     },
     "metadata": {
      "needs_background": "light"
     },
     "output_type": "display_data"
    }
   ],
   "source": [
    "import matplotlib.pyplot as plt\n",
    "\n",
    "lexicon_word_freq = count_words_in_misclassified_reviews(lexicon_misclassified)\n",
    "top_words = dict(lexicon_word_freq[:10])\n",
    "\n",
    "plt.barh(list(top_words.keys()), list(top_words.values()))\n",
    "plt.title(\"Top Misclassified Words in Lexicon Model\")\n",
    "plt.xlabel(\"Frequency\")\n",
    "plt.ylabel(\"Words\")\n",
    "plt.show()\n"
   ]
  },
  {
   "cell_type": "code",
   "execution_count": 54,
   "id": "6773d3bb",
   "metadata": {},
   "outputs": [
    {
     "data": {
      "image/png": "[encoded data removed]",
      "text/plain": [
       "<Figure size 432x288 with 1 Axes>"
      ]
     },
     "metadata": {
      "needs_background": "light"
     },
     "output_type": "display_data"
    }
   ],
   "source": [
    "import matplotlib.pyplot as plt\n",
    "\n",
    "vader_word_freq = count_words_in_misclassified_reviews(vader_misclassified)\n",
    "top_words = dict(vader_word_freq[:10])\n",
    "\n",
    "plt.barh(list(top_words.keys()), list(top_words.values()))\n",
    "plt.title(\"Top Misclassified Words in Vader Model\")\n",
    "plt.xlabel(\"Frequency\")\n",
    "plt.ylabel(\"Words\")\n",
    "plt.show()\n"
   ]
  },
  {
   "cell_type": "markdown",
   "id": "c0fb0977",
   "metadata": {},
   "source": [
    "# 9. Calculate the incorrect predictions made by each model\n",
    "Return rows with incorrect count of 3, manual evaluation of why all models got it wrong"
   ]
  },
  {
   "cell_type": "code",
   "execution_count": 55,
   "id": "3518bd37",
   "metadata": {},
   "outputs": [],
   "source": [
    "def count_incorrect_predictions(row):\n",
    "    incorrect_count = 0\n",
    "    if row['gold_truth'] != row['Naive_Bayes']:\n",
    "        incorrect_count += 1\n",
    "    if row['gold_truth'] != row['lexicon']:\n",
    "        incorrect_count += 1\n",
    "    if row['gold_truth'] != row['vader']:\n",
    "        incorrect_count += 1\n",
    "    return incorrect_count\n",
    "\n",
    "classifying_df['incorrect_count'] = classifying_df.apply(count_incorrect_predictions, axis=1)"
   ]
  },
  {
   "cell_type": "code",
   "execution_count": 56,
   "id": "a7cd6745",
   "metadata": {},
   "outputs": [
    {
     "data": {
      "text/html": [
       "<div>\n",
       "<style scoped>\n",
       "    .dataframe tbody tr th:only-of-type {\n",
       "        vertical-align: middle;\n",
       "    }\n",
       "\n",
       "    .dataframe tbody tr th {\n",
       "        vertical-align: top;\n",
       "    }\n",
       "\n",
       "    .dataframe thead th {\n",
       "        text-align: right;\n",
       "    }\n",
       "</style>\n",
       "<table border=\"1\" class=\"dataframe\">\n",
       "  <thead>\n",
       "    <tr style=\"text-align: right;\">\n",
       "      <th></th>\n",
       "      <th>Model</th>\n",
       "      <th>Incorrect_Predictions</th>\n",
       "    </tr>\n",
       "  </thead>\n",
       "  <tbody>\n",
       "    <tr>\n",
       "      <th>0</th>\n",
       "      <td>Naive_Bayes</td>\n",
       "      <td>849</td>\n",
       "    </tr>\n",
       "    <tr>\n",
       "      <th>1</th>\n",
       "      <td>Lexicon</td>\n",
       "      <td>1153</td>\n",
       "    </tr>\n",
       "    <tr>\n",
       "      <th>2</th>\n",
       "      <td>Vader</td>\n",
       "      <td>1114</td>\n",
       "    </tr>\n",
       "  </tbody>\n",
       "</table>\n",
       "</div>"
      ],
      "text/plain": [
       "         Model  Incorrect_Predictions\n",
       "0  Naive_Bayes                    849\n",
       "1      Lexicon                   1153\n",
       "2        Vader                   1114"
      ]
     },
     "execution_count": 56,
     "metadata": {},
     "output_type": "execute_result"
    }
   ],
   "source": [
    "classifying_df['Naive_Bayes_Incorrect'] = classifying_df['gold_truth'] != classifying_df['Naive_Bayes']\n",
    "classifying_df['Lexicon_Incorrect'] = classifying_df['gold_truth'] != classifying_df['lexicon']\n",
    "classifying_df['Vader_Incorrect'] = classifying_df['gold_truth'] != classifying_df['vader']\n",
    "\n",
    "# Create a new DataFrame to store the results\n",
    "incorrect_predictions_df = pd.DataFrame({\n",
    "    'Model': ['Naive_Bayes', 'Lexicon', 'Vader'],\n",
    "    'Incorrect_Predictions': [\n",
    "        classifying_df['Naive_Bayes_Incorrect'].sum(),\n",
    "        classifying_df['Lexicon_Incorrect'].sum(),\n",
    "        classifying_df['Vader_Incorrect'].sum()\n",
    "    ]\n",
    "})\n",
    "\n",
    "incorrect_predictions_df"
   ]
  },
  {
   "cell_type": "code",
   "execution_count": 57,
   "id": "06494392",
   "metadata": {},
   "outputs": [
    {
     "data": {
      "image/png": "[encoded data removed]",
      "text/plain": [
       "<Figure size 432x288 with 1 Axes>"
      ]
     },
     "metadata": {
      "needs_background": "light"
     },
     "output_type": "display_data"
    }
   ],
   "source": [
    "import matplotlib.pyplot as plt\n",
    "\n",
    "plt.bar(incorrect_predictions_df['Model'], incorrect_predictions_df['Incorrect_Predictions'])\n",
    "plt.title('Incorrect Predictions by Model vs Gold Truth')\n",
    "plt.xlabel('Model')\n",
    "plt.ylabel('Number of Incorrect Predictions')\n",
    "plt.show()"
   ]
  },
  {
   "cell_type": "markdown",
   "id": "24107f8a",
   "metadata": {},
   "source": [
    "# 10. Analysis of Naive Bayes\n",
    "To understand why Naive Bayes performed the best, we filter the data such that it shows data where Naive Bayes predicted correctly and the other 2 models predicted wrongly"
   ]
  },
  {
   "cell_type": "code",
   "execution_count": 58,
   "id": "010147f3",
   "metadata": {},
   "outputs": [
    {
     "data": {
      "text/html": [
       "<div>\n",
       "<style scoped>\n",
       "    .dataframe tbody tr th:only-of-type {\n",
       "        vertical-align: middle;\n",
       "    }\n",
       "\n",
       "    .dataframe tbody tr th {\n",
       "        vertical-align: top;\n",
       "    }\n",
       "\n",
       "    .dataframe thead th {\n",
       "        text-align: right;\n",
       "    }\n",
       "</style>\n",
       "<table border=\"1\" class=\"dataframe\">\n",
       "  <thead>\n",
       "    <tr style=\"text-align: right;\">\n",
       "      <th></th>\n",
       "      <th>Review_SA_Processed</th>\n",
       "      <th>Score</th>\n",
       "      <th>gold_truth</th>\n",
       "      <th>Naive_Bayes</th>\n",
       "      <th>lexicon</th>\n",
       "      <th>vader</th>\n",
       "    </tr>\n",
       "  </thead>\n",
       "  <tbody>\n",
       "    <tr>\n",
       "      <th>2751</th>\n",
       "      <td>verify selfie</td>\n",
       "      <td>1</td>\n",
       "      <td>negative</td>\n",
       "      <td>negative</td>\n",
       "      <td>neutral</td>\n",
       "      <td>neutral</td>\n",
       "    </tr>\n",
       "    <tr>\n",
       "      <th>2955</th>\n",
       "      <td>one word say grab fmlywait see mmm yx</td>\n",
       "      <td>1</td>\n",
       "      <td>negative</td>\n",
       "      <td>negative</td>\n",
       "      <td>neutral</td>\n",
       "      <td>neutral</td>\n",
       "    </tr>\n",
       "    <tr>\n",
       "      <th>8257</th>\n",
       "      <td>red tape makes app useless better crossing border groceries useing app</td>\n",
       "      <td>1</td>\n",
       "      <td>negative</td>\n",
       "      <td>negative</td>\n",
       "      <td>neutral</td>\n",
       "      <td>neutral</td>\n",
       "    </tr>\n",
       "    <tr>\n",
       "      <th>967</th>\n",
       "      <td>nh cc</td>\n",
       "      <td>1</td>\n",
       "      <td>negative</td>\n",
       "      <td>negative</td>\n",
       "      <td>neutral</td>\n",
       "      <td>positive</td>\n",
       "    </tr>\n",
       "    <tr>\n",
       "      <th>7747</th>\n",
       "      <td>gud</td>\n",
       "      <td>5</td>\n",
       "      <td>positive</td>\n",
       "      <td>positive</td>\n",
       "      <td>neutral</td>\n",
       "      <td>neutral</td>\n",
       "    </tr>\n",
       "    <tr>\n",
       "      <th>511</th>\n",
       "      <td>grab express terrible you cannot see riderdriver hes nearby eta keeps conveniently adjusting later later time you realise lateslow want cancel you cannot cuz grab says riderdriver already way ill go lalamove anytime</td>\n",
       "      <td>2</td>\n",
       "      <td>negative</td>\n",
       "      <td>neutral</td>\n",
       "      <td>neutral</td>\n",
       "      <td>negative</td>\n",
       "    </tr>\n",
       "    <tr>\n",
       "      <th>591</th>\n",
       "      <td>good app general one thing realised really made angry whenever order app orders outlets near area case wanted order food sister lives east live west tried many ways change outlet even typed outlet location still showed outlets near frustrating trying figure could not change order outlet somewhere nearer sister</td>\n",
       "      <td>3</td>\n",
       "      <td>neutral</td>\n",
       "      <td>neutral</td>\n",
       "      <td>negative</td>\n",
       "      <td>negative</td>\n",
       "    </tr>\n",
       "    <tr>\n",
       "      <th>7077</th>\n",
       "      <td>verygood</td>\n",
       "      <td>5</td>\n",
       "      <td>positive</td>\n",
       "      <td>positive</td>\n",
       "      <td>neutral</td>\n",
       "      <td>neutral</td>\n",
       "    </tr>\n",
       "    <tr>\n",
       "      <th>4883</th>\n",
       "      <td>terbaik</td>\n",
       "      <td>5</td>\n",
       "      <td>positive</td>\n",
       "      <td>positive</td>\n",
       "      <td>neutral</td>\n",
       "      <td>neutral</td>\n",
       "    </tr>\n",
       "    <tr>\n",
       "      <th>1888</th>\n",
       "      <td>received correct food food ordered</td>\n",
       "      <td>1</td>\n",
       "      <td>negative</td>\n",
       "      <td>negative</td>\n",
       "      <td>positive</td>\n",
       "      <td>neutral</td>\n",
       "    </tr>\n",
       "  </tbody>\n",
       "</table>\n",
       "</div>"
      ],
      "text/plain": [
       "                                                                                                                                                                                                                                                                                                          Review_SA_Processed  \\\n",
       "2751                                                                                                                                                                                                                                                                                                            verify selfie   \n",
       "2955                                                                                                                                                                                                                                                                                    one word say grab fmlywait see mmm yx   \n",
       "8257                                                                                                                                                                                                                                                   red tape makes app useless better crossing border groceries useing app   \n",
       "967                                                                                                                                                                                                                                                                                                                     nh cc   \n",
       "7747                                                                                                                                                                                                                                                                                                                      gud   \n",
       "511                                                                                                   grab express terrible you cannot see riderdriver hes nearby eta keeps conveniently adjusting later later time you realise lateslow want cancel you cannot cuz grab says riderdriver already way ill go lalamove anytime   \n",
       "591   good app general one thing realised really made angry whenever order app orders outlets near area case wanted order food sister lives east live west tried many ways change outlet even typed outlet location still showed outlets near frustrating trying figure could not change order outlet somewhere nearer sister   \n",
       "7077                                                                                                                                                                                                                                                                                                                 verygood   \n",
       "4883                                                                                                                                                                                                                                                                                                                  terbaik   \n",
       "1888                                                                                                                                                                                                                                                                                       received correct food food ordered   \n",
       "\n",
       "      Score gold_truth Naive_Bayes   lexicon     vader  \n",
       "2751      1   negative    negative   neutral   neutral  \n",
       "2955      1   negative    negative   neutral   neutral  \n",
       "8257      1   negative    negative   neutral   neutral  \n",
       "967       1   negative    negative   neutral  positive  \n",
       "7747      5   positive    positive   neutral   neutral  \n",
       "511       2   negative     neutral   neutral  negative  \n",
       "591       3    neutral     neutral  negative  negative  \n",
       "7077      5   positive    positive   neutral   neutral  \n",
       "4883      5   positive    positive   neutral   neutral  \n",
       "1888      1   negative    negative  positive   neutral  "
      ]
     },
     "execution_count": 58,
     "metadata": {},
     "output_type": "execute_result"
    }
   ],
   "source": [
    "classifying_df_sorted = classifying_df.sort_values(by='incorrect_count', ascending=False)\n",
    "classifying_df_incorrect2 = classifying_df_sorted.loc[classifying_df_sorted['incorrect_count'] == 2]\n",
    "\n",
    "new = classifying_df_incorrect2['Score']\n",
    "classifying_df_incorrect2.drop(columns=['Score','incorrect_count', 'Naive_Bayes_Incorrect', 'Lexicon_Incorrect', 'Vader_Incorrect'], inplace=True)\n",
    "\n",
    "classifying_df_incorrect2.insert(loc=2, column = 'Score', value = new)\n",
    "classifying_df_incorrect2.drop(columns=['Review'], inplace=True)\n",
    "classifying_df_incorrect2.head(10)"
   ]
  },
  {
   "cell_type": "markdown",
   "id": "7a1df635",
   "metadata": {},
   "source": [
    "# 11. Using the trained Naive Bayes on entire dataset"
   ]
  },
  {
   "cell_type": "code",
   "execution_count": 60,
   "id": "ecf0b9c0",
   "metadata": {},
   "outputs": [
    {
     "data": {
      "text/html": [
       "<div>\n",
       "<style scoped>\n",
       "    .dataframe tbody tr th:only-of-type {\n",
       "        vertical-align: middle;\n",
       "    }\n",
       "\n",
       "    .dataframe tbody tr th {\n",
       "        vertical-align: top;\n",
       "    }\n",
       "\n",
       "    .dataframe thead th {\n",
       "        text-align: right;\n",
       "    }\n",
       "</style>\n",
       "<table border=\"1\" class=\"dataframe\">\n",
       "  <thead>\n",
       "    <tr style=\"text-align: right;\">\n",
       "      <th></th>\n",
       "      <th>Review</th>\n",
       "      <th>Score</th>\n",
       "      <th>Naive_Bayes_Sentiment</th>\n",
       "    </tr>\n",
       "  </thead>\n",
       "  <tbody>\n",
       "    <tr>\n",
       "      <th>0</th>\n",
       "      <td>update poor performance taking minutes search driver loading balance grabpay available</td>\n",
       "      <td>1</td>\n",
       "      <td>negative</td>\n",
       "    </tr>\n",
       "    <tr>\n",
       "      <th>1</th>\n",
       "      <td>bad app</td>\n",
       "      <td>1</td>\n",
       "      <td>negative</td>\n",
       "    </tr>\n",
       "    <tr>\n",
       "      <th>2</th>\n",
       "      <td>friendly helpful nice well maintained vehicle enjoyable ride</td>\n",
       "      <td>5</td>\n",
       "      <td>positive</td>\n",
       "    </tr>\n",
       "    <tr>\n",
       "      <th>3</th>\n",
       "      <td>remove grab app looking food knew car number waiting ill bed certainly make order made nervous even look grab food ringgit fine according grab nowhere cancel looked car number came surely must secure way ordering say bother grab taxi wont go food</td>\n",
       "      <td>2</td>\n",
       "      <td>negative</td>\n",
       "    </tr>\n",
       "    <tr>\n",
       "      <th>4</th>\n",
       "      <td>embarassing singapore waiting time reduced minutes yet app shows wrong waiting time minutes least time thought connecting damn satellite traffic time irrelevant also charged make drivers wait cancel minutes get voucher refund money eating app shame youe embarassing way business</td>\n",
       "      <td>2</td>\n",
       "      <td>negative</td>\n",
       "    </tr>\n",
       "  </tbody>\n",
       "</table>\n",
       "</div>"
      ],
      "text/plain": [
       "                                                                                                                                                                                                                                                                                   Review  \\\n",
       "0                                                                                                                                                                                                  update poor performance taking minutes search driver loading balance grabpay available   \n",
       "1                                                                                                                                                                                                                                                                                 bad app   \n",
       "2                                                                                                                                                                                                                            friendly helpful nice well maintained vehicle enjoyable ride   \n",
       "3                                  remove grab app looking food knew car number waiting ill bed certainly make order made nervous even look grab food ringgit fine according grab nowhere cancel looked car number came surely must secure way ordering say bother grab taxi wont go food   \n",
       "4  embarassing singapore waiting time reduced minutes yet app shows wrong waiting time minutes least time thought connecting damn satellite traffic time irrelevant also charged make drivers wait cancel minutes get voucher refund money eating app shame youe embarassing way business   \n",
       "\n",
       "   Score Naive_Bayes_Sentiment  \n",
       "0      1              negative  \n",
       "1      1              negative  \n",
       "2      5              positive  \n",
       "3      2              negative  \n",
       "4      2              negative  "
      ]
     },
     "execution_count": 60,
     "metadata": {},
     "output_type": "execute_result"
    }
   ],
   "source": [
    "# creating dataset to be placed in classifier\n",
    "review_dataset = df['Review_SA_Processed']\n",
    "\n",
    "# Store the labeled data in the following list.\n",
    "labeled_data = []\n",
    "\n",
    "corpus = []\n",
    "\n",
    "for i in range(len(review_dataset)):\n",
    "    # Tokenize the text.\n",
    "    sent = nltk.word_tokenize(review_dataset.iloc[i])\n",
    "    \n",
    "    # Store the sentence into the corpus.\n",
    "    corpus.append(sent)    \n",
    "    \n",
    "# Going through the two lists in parallel to create the labeled data set.\n",
    "for s in corpus:\n",
    "\n",
    "    # Convert the original sentence into a vector.\n",
    "    vector = dictionary.doc2bow(s)\n",
    "    \n",
    "    # Create a dict object to store the document vector (in order to use NLTK's classifier later)\n",
    "    sent_as_dict = {id:1 for (id, tf) in vector}\n",
    "    \n",
    "    # Add the labeled sentence to the labeled data set.\n",
    "    labeled_data.append(sent_as_dict)\n",
    "    \n",
    "# Convert the labeled data to a list of features and labels\n",
    "data_set = [features for features in labeled_data]\n",
    "\n",
    "# Create a list of predicted labels for the data_set\n",
    "outcome = [classifier.classify(features) for features in labeled_data]\n",
    "\n",
    "# Append outcome to original dataset\n",
    "sentiment_df = pd.read_csv('cleaned_grab_playstore_reviews.csv')\n",
    "sentiment_df = sentiment_df.drop('Date', axis=1)\n",
    "\n",
    "sentiment_df['Naive_Bayes_Sentiment'] = outcome\n",
    "\n",
    "sentiment_df.head()"
   ]
  },
  {
   "cell_type": "code",
   "execution_count": 28,
   "id": "0c65c70f",
   "metadata": {},
   "outputs": [],
   "source": [
    "#convert sentiment_df to csv\n",
    "# sentiment_df.to_csv('Naive_Bayes_df.csv', index=False)"
   ]
  },
  {
   "cell_type": "code",
   "execution_count": 31,
   "id": "4118cd47",
   "metadata": {},
   "outputs": [],
   "source": [
    "# classifying_df.to_csv('classifying_df.csv', index=False)"
   ]
  }
 ],
 "metadata": {
  "colab": {
   "provenance": []
  },
  "kernelspec": {
   "display_name": "Python 3",
   "language": "python",
   "name": "python3"
  },
  "language_info": {
   "codemirror_mode": {
    "name": "ipython",
    "version": 3
   },
   "file_extension": ".py",
   "mimetype": "text/x-python",
   "name": "python",
   "nbconvert_exporter": "python",
   "pygments_lexer": "ipython3",
   "version": "3.9.12"
  }
 },
 "nbformat": 4,
 "nbformat_minor": 5
}
