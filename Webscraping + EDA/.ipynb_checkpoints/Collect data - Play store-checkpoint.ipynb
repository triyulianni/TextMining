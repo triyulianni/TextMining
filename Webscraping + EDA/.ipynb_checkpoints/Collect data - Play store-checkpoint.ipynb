{
 "cells": [
  {
   "cell_type": "code",
   "execution_count": null,
   "id": "5694928e",
   "metadata": {
    "id": "5694928e"
   },
   "outputs": [],
   "source": [
    "# creds: \n",
    "# data collection\n",
    "# https://www.youtube.com/watch?v=gI6wXYppiNQ\n",
    "\n",
    "# data cleaning\n",
    "# https://www.youtube.com/watch?v=TF7fAw95U0o"
   ]
  },
  {
   "cell_type": "code",
   "execution_count": null,
   "id": "21a795aa",
   "metadata": {
    "id": "21a795aa",
    "outputId": "2a580dc8-78c4-4677-897f-7c1ea4e10871"
   },
   "outputs": [
    {
     "name": "stdout",
     "output_type": "stream",
     "text": [
      "Requirement already satisfied: google-play-scraper in c:\\users\\ccilo\\anaconda3\\lib\\site-packages (1.2.2)\n",
      "Requirement already satisfied: nltk in c:\\users\\ccilo\\anaconda3\\lib\\site-packages (3.6.5)\n",
      "Requirement already satisfied: click in c:\\users\\ccilo\\anaconda3\\lib\\site-packages (from nltk) (8.0.3)\n",
      "Requirement already satisfied: joblib in c:\\users\\ccilo\\anaconda3\\lib\\site-packages (from nltk) (1.1.0)\n",
      "Requirement already satisfied: regex>=2021.8.3 in c:\\users\\ccilo\\anaconda3\\lib\\site-packages (from nltk) (2021.8.3)\n",
      "Requirement already satisfied: tqdm in c:\\users\\ccilo\\anaconda3\\lib\\site-packages (from nltk) (4.62.3)\n",
      "Requirement already satisfied: colorama in c:\\users\\ccilo\\anaconda3\\lib\\site-packages (from click->nltk) (0.4.4)\n"
     ]
    }
   ],
   "source": [
    "!pip install google-play-scraper\n",
    "!pip install nltk\n",
    "from google_play_scraper import app, Sort, reviews_all, reviews"
   ]
  },
  {
   "cell_type": "code",
   "execution_count": null,
   "id": "56f51233",
   "metadata": {
    "id": "56f51233"
   },
   "outputs": [],
   "source": [
    "import pandas as pd\n",
    "import numpy as np\n",
    "import string"
   ]
  },
  {
   "cell_type": "code",
   "execution_count": null,
   "id": "bce9fb41",
   "metadata": {
    "id": "bce9fb41",
    "outputId": "715f82a1-6f6f-452c-c8a9-be2920a457e4"
   },
   "outputs": [
    {
     "name": "stderr",
     "output_type": "stream",
     "text": [
      "[nltk_data] Downloading package stopwords to\n",
      "[nltk_data]     C:\\Users\\ccilo\\AppData\\Roaming\\nltk_data...\n",
      "[nltk_data]   Package stopwords is already up-to-date!\n"
     ]
    }
   ],
   "source": [
    "import nltk\n",
    "nltk.download('stopwords')\n",
    "from nltk.corpus import stopwords"
   ]
  },
  {
   "cell_type": "code",
   "execution_count": null,
   "id": "fce94191",
   "metadata": {
    "id": "fce94191"
   },
   "outputs": [],
   "source": [
    "result, continuation_token = reviews(\n",
    "    'com.grabtaxi.passenger',\n",
    "    lang='en_SG', # defaults to 'en'\n",
    "    country='sg', # defaults to 'us'\n",
    "    sort=Sort.NEWEST, # defaults to Sort.NEWEST\n",
    "#     sort=Sort.MOST_RELEVANT, # Use if you need to sort by highest thumbsUpCount\n",
    "    count=10000, # defaults to 100\n",
    "#     filter_score_with=5 # defaults to None(means all score)\n",
    ")"
   ]
  },
  {
   "cell_type": "code",
   "execution_count": null,
   "id": "80db4351",
   "metadata": {
    "id": "80db4351"
   },
   "outputs": [],
   "source": [
    "scrapeddata = pd.DataFrame(np.array(result),columns=['review'])\n",
    "scrapeddata = scrapeddata.join(pd.DataFrame(scrapeddata.pop('review').tolist()))"
   ]
  },
  {
   "cell_type": "code",
   "execution_count": null,
   "id": "6b092f52",
   "metadata": {
    "id": "6b092f52",
    "outputId": "45b2e72f-6f4f-4498-9374-c1690a4d30dc",
    "scrolled": true
   },
   "outputs": [
    {
     "data": {
      "text/html": [
       "<div>\n",
       "<style scoped>\n",
       "    .dataframe tbody tr th:only-of-type {\n",
       "        vertical-align: middle;\n",
       "    }\n",
       "\n",
       "    .dataframe tbody tr th {\n",
       "        vertical-align: top;\n",
       "    }\n",
       "\n",
       "    .dataframe thead th {\n",
       "        text-align: right;\n",
       "    }\n",
       "</style>\n",
       "<table border=\"1\" class=\"dataframe\">\n",
       "  <thead>\n",
       "    <tr style=\"text-align: right;\">\n",
       "      <th></th>\n",
       "      <th>reviewId</th>\n",
       "      <th>userName</th>\n",
       "      <th>userImage</th>\n",
       "      <th>content</th>\n",
       "      <th>score</th>\n",
       "      <th>thumbsUpCount</th>\n",
       "      <th>reviewCreatedVersion</th>\n",
       "      <th>at</th>\n",
       "      <th>replyContent</th>\n",
       "      <th>repliedAt</th>\n",
       "    </tr>\n",
       "  </thead>\n",
       "  <tbody>\n",
       "    <tr>\n",
       "      <th>0</th>\n",
       "      <td>51dc3a2b-aa1a-4c2e-b216-54af41840a30</td>\n",
       "      <td>A Google user</td>\n",
       "      <td>https://play-lh.googleusercontent.com/EGemoI2N...</td>\n",
       "      <td>Ok normal</td>\n",
       "      <td>2</td>\n",
       "      <td>0</td>\n",
       "      <td>5.205.0</td>\n",
       "      <td>2022-10-06 19:22:27</td>\n",
       "      <td>None</td>\n",
       "      <td>NaT</td>\n",
       "    </tr>\n",
       "    <tr>\n",
       "      <th>1</th>\n",
       "      <td>24b524e3-9608-45f1-814d-d603b5fb30b4</td>\n",
       "      <td>Rene avelgos</td>\n",
       "      <td>https://play-lh.googleusercontent.com/a-/ACNPE...</td>\n",
       "      <td>Terrific</td>\n",
       "      <td>5</td>\n",
       "      <td>0</td>\n",
       "      <td>5.220.0</td>\n",
       "      <td>2022-10-06 19:17:42</td>\n",
       "      <td>None</td>\n",
       "      <td>NaT</td>\n",
       "    </tr>\n",
       "    <tr>\n",
       "      <th>2</th>\n",
       "      <td>bb9d5ca8-ad3b-4e06-b7af-f17a6de8011e</td>\n",
       "      <td>Md Mahfuz</td>\n",
       "      <td>https://play-lh.googleusercontent.com/a/ALm5wu...</td>\n",
       "      <td>nice</td>\n",
       "      <td>5</td>\n",
       "      <td>0</td>\n",
       "      <td>5.209.0</td>\n",
       "      <td>2022-10-06 18:54:26</td>\n",
       "      <td>None</td>\n",
       "      <td>NaT</td>\n",
       "    </tr>\n",
       "    <tr>\n",
       "      <th>3</th>\n",
       "      <td>ff280ed8-88f8-4759-b9f4-708e3d0ea581</td>\n",
       "      <td>Tarcisius Pier</td>\n",
       "      <td>https://play-lh.googleusercontent.com/a-/ACNPE...</td>\n",
       "      <td>No Grab drivers are available unless you subsc...</td>\n",
       "      <td>1</td>\n",
       "      <td>0</td>\n",
       "      <td>5.220.0</td>\n",
       "      <td>2022-10-06 18:40:55</td>\n",
       "      <td>Hi there! That’s not the experience we want yo...</td>\n",
       "      <td>2022-10-06 21:27:36</td>\n",
       "    </tr>\n",
       "    <tr>\n",
       "      <th>4</th>\n",
       "      <td>851f8d50-7fa3-4ecc-8c37-2ea5909b223b</td>\n",
       "      <td>Ahmad Zaenudin</td>\n",
       "      <td>https://play-lh.googleusercontent.com/a-/ACNPE...</td>\n",
       "      <td>Tolong edukasi drivernya supaya tetap ambil or...</td>\n",
       "      <td>1</td>\n",
       "      <td>1</td>\n",
       "      <td>5.220.0</td>\n",
       "      <td>2022-10-06 18:22:46</td>\n",
       "      <td>None</td>\n",
       "      <td>NaT</td>\n",
       "    </tr>\n",
       "  </tbody>\n",
       "</table>\n",
       "</div>"
      ],
      "text/plain": [
       "                               reviewId        userName  \\\n",
       "0  51dc3a2b-aa1a-4c2e-b216-54af41840a30   A Google user   \n",
       "1  24b524e3-9608-45f1-814d-d603b5fb30b4    Rene avelgos   \n",
       "2  bb9d5ca8-ad3b-4e06-b7af-f17a6de8011e       Md Mahfuz   \n",
       "3  ff280ed8-88f8-4759-b9f4-708e3d0ea581  Tarcisius Pier   \n",
       "4  851f8d50-7fa3-4ecc-8c37-2ea5909b223b  Ahmad Zaenudin   \n",
       "\n",
       "                                           userImage  \\\n",
       "0  https://play-lh.googleusercontent.com/EGemoI2N...   \n",
       "1  https://play-lh.googleusercontent.com/a-/ACNPE...   \n",
       "2  https://play-lh.googleusercontent.com/a/ALm5wu...   \n",
       "3  https://play-lh.googleusercontent.com/a-/ACNPE...   \n",
       "4  https://play-lh.googleusercontent.com/a-/ACNPE...   \n",
       "\n",
       "                                             content  score  thumbsUpCount  \\\n",
       "0                                          Ok normal      2              0   \n",
       "1                                           Terrific      5              0   \n",
       "2                                               nice      5              0   \n",
       "3  No Grab drivers are available unless you subsc...      1              0   \n",
       "4  Tolong edukasi drivernya supaya tetap ambil or...      1              1   \n",
       "\n",
       "  reviewCreatedVersion                  at  \\\n",
       "0              5.205.0 2022-10-06 19:22:27   \n",
       "1              5.220.0 2022-10-06 19:17:42   \n",
       "2              5.209.0 2022-10-06 18:54:26   \n",
       "3              5.220.0 2022-10-06 18:40:55   \n",
       "4              5.220.0 2022-10-06 18:22:46   \n",
       "\n",
       "                                        replyContent           repliedAt  \n",
       "0                                               None                 NaT  \n",
       "1                                               None                 NaT  \n",
       "2                                               None                 NaT  \n",
       "3  Hi there! That’s not the experience we want yo... 2022-10-06 21:27:36  \n",
       "4                                               None                 NaT  "
      ]
     },
     "execution_count": 7,
     "metadata": {},
     "output_type": "execute_result"
    }
   ],
   "source": [
    "scrapeddata.head()"
   ]
  },
  {
   "cell_type": "code",
   "execution_count": null,
   "id": "d7bbc3a4",
   "metadata": {
    "id": "d7bbc3a4",
    "outputId": "7dea5e55-b5a6-4509-c62c-ef9b3c97fab4"
   },
   "outputs": [
    {
     "data": {
      "text/html": [
       "<div>\n",
       "<style scoped>\n",
       "    .dataframe tbody tr th:only-of-type {\n",
       "        vertical-align: middle;\n",
       "    }\n",
       "\n",
       "    .dataframe tbody tr th {\n",
       "        vertical-align: top;\n",
       "    }\n",
       "\n",
       "    .dataframe thead th {\n",
       "        text-align: right;\n",
       "    }\n",
       "</style>\n",
       "<table border=\"1\" class=\"dataframe\">\n",
       "  <thead>\n",
       "    <tr style=\"text-align: right;\">\n",
       "      <th></th>\n",
       "      <th>content</th>\n",
       "      <th>score</th>\n",
       "      <th>at</th>\n",
       "      <th>replyContent</th>\n",
       "      <th>repliedAt</th>\n",
       "    </tr>\n",
       "  </thead>\n",
       "  <tbody>\n",
       "    <tr>\n",
       "      <th>0</th>\n",
       "      <td>Ok normal</td>\n",
       "      <td>2</td>\n",
       "      <td>2022-10-06 19:22:27</td>\n",
       "      <td>None</td>\n",
       "      <td>NaT</td>\n",
       "    </tr>\n",
       "    <tr>\n",
       "      <th>1</th>\n",
       "      <td>Terrific</td>\n",
       "      <td>5</td>\n",
       "      <td>2022-10-06 19:17:42</td>\n",
       "      <td>None</td>\n",
       "      <td>NaT</td>\n",
       "    </tr>\n",
       "    <tr>\n",
       "      <th>2</th>\n",
       "      <td>nice</td>\n",
       "      <td>5</td>\n",
       "      <td>2022-10-06 18:54:26</td>\n",
       "      <td>None</td>\n",
       "      <td>NaT</td>\n",
       "    </tr>\n",
       "    <tr>\n",
       "      <th>3</th>\n",
       "      <td>No Grab drivers are available unless you subsc...</td>\n",
       "      <td>1</td>\n",
       "      <td>2022-10-06 18:40:55</td>\n",
       "      <td>Hi there! That’s not the experience we want yo...</td>\n",
       "      <td>2022-10-06 21:27:36</td>\n",
       "    </tr>\n",
       "    <tr>\n",
       "      <th>4</th>\n",
       "      <td>Tolong edukasi drivernya supaya tetap ambil or...</td>\n",
       "      <td>1</td>\n",
       "      <td>2022-10-06 18:22:46</td>\n",
       "      <td>None</td>\n",
       "      <td>NaT</td>\n",
       "    </tr>\n",
       "  </tbody>\n",
       "</table>\n",
       "</div>"
      ],
      "text/plain": [
       "                                             content  score  \\\n",
       "0                                          Ok normal      2   \n",
       "1                                           Terrific      5   \n",
       "2                                               nice      5   \n",
       "3  No Grab drivers are available unless you subsc...      1   \n",
       "4  Tolong edukasi drivernya supaya tetap ambil or...      1   \n",
       "\n",
       "                   at                                       replyContent  \\\n",
       "0 2022-10-06 19:22:27                                               None   \n",
       "1 2022-10-06 19:17:42                                               None   \n",
       "2 2022-10-06 18:54:26                                               None   \n",
       "3 2022-10-06 18:40:55  Hi there! That’s not the experience we want yo...   \n",
       "4 2022-10-06 18:22:46                                               None   \n",
       "\n",
       "            repliedAt  \n",
       "0                 NaT  \n",
       "1                 NaT  \n",
       "2                 NaT  \n",
       "3 2022-10-06 21:27:36  \n",
       "4                 NaT  "
      ]
     },
     "execution_count": 8,
     "metadata": {},
     "output_type": "execute_result"
    }
   ],
   "source": [
    "filteredData = scrapeddata[['content','score','at','replyContent','repliedAt']]\n",
    "\n",
    "filteredData.head() "
   ]
  },
  {
   "cell_type": "code",
   "execution_count": null,
   "id": "25576788",
   "metadata": {
    "id": "25576788",
    "outputId": "5cdb35b6-d28c-4b19-8ec5-1b4d7c013a58",
    "scrolled": true
   },
   "outputs": [
    {
     "name": "stderr",
     "output_type": "stream",
     "text": [
      "C:\\Users\\ccilo\\AppData\\Local\\Temp/ipykernel_19252/3647805742.py:29: SettingWithCopyWarning: \n",
      "A value is trying to be set on a copy of a slice from a DataFrame.\n",
      "Try using .loc[row_indexer,col_indexer] = value instead\n",
      "\n",
      "See the caveats in the documentation: https://pandas.pydata.org/pandas-docs/stable/user_guide/indexing.html#returning-a-view-versus-a-copy\n",
      "  filteredData['cleanedcontent'] = normalise_case(filteredData.content)  # attaching the cleaned data as a new column to the dataset\n",
      "C:\\Users\\ccilo\\AppData\\Local\\Temp/ipykernel_19252/3647805742.py:30: SettingWithCopyWarning: \n",
      "A value is trying to be set on a copy of a slice from a DataFrame.\n",
      "Try using .loc[row_indexer,col_indexer] = value instead\n",
      "\n",
      "See the caveats in the documentation: https://pandas.pydata.org/pandas-docs/stable/user_guide/indexing.html#returning-a-view-versus-a-copy\n",
      "  filteredData['cleanedreplyContent'] = normalise_case(filteredData.replyContent)  # attaching the cleaned data as a new column to the dataset\n"
     ]
    }
   ],
   "source": [
    "def removepunctuation(text):\n",
    "    p = set(string.punctuation) # p take all the punctuations, punctuations displayed below\n",
    "    text=text.lower() # convert text to lower case\n",
    "    words=text.split() # split the text into words\n",
    "    ctext=[]\n",
    "    for i in range(10): #adding numbers from 0 - 9 to p \n",
    "        p.add(str(i))\n",
    "    for i in words:\n",
    "        t=''.join([x for x in i.encode(\"ascii\",\"ignore\").decode(\"ascii\") if x not in p]) # ignoring non ascii charecters and numbers\n",
    "        ctext.append(t)\n",
    "    return \" \".join([i for i in ctext]) # joining the cleaned words to text\n",
    "\n",
    "def normalise_case(uncleaned):\n",
    "    cleaned=[]\n",
    "    for i in uncleaned:\n",
    "        try:\n",
    "            ctxt=removepunctuation(i)\n",
    "            if len(ctxt)==0: raise()\n",
    "            cleaned.append(ctxt)\n",
    "        except:\n",
    "            cleaned.append(np.nan)\n",
    "    \n",
    "    cleaned = pd.Series(cleaned).astype(str).apply(lambda x: \" \".join(x for x in x.split() if x not in stop_words))\n",
    "    cleaned = cleaned.replace(r'^\\s*$', np.nan, regex=True)\n",
    "    return cleaned\n",
    "        \n",
    "stop_words = stopwords.words('english')\n",
    "\n",
    "filteredData['cleanedcontent'] = normalise_case(filteredData.content)  # attaching the cleaned data as a new column to the dataset\n",
    "filteredData['cleanedreplyContent'] = normalise_case(filteredData.replyContent)  # attaching the cleaned data as a new column to the dataset"
   ]
  },
  {
   "cell_type": "code",
   "execution_count": null,
   "id": "809ab934",
   "metadata": {
    "id": "809ab934",
    "outputId": "43f77214-478a-4146-e3da-5c1af5ec5422"
   },
   "outputs": [
    {
     "data": {
      "text/html": [
       "<div>\n",
       "<style scoped>\n",
       "    .dataframe tbody tr th:only-of-type {\n",
       "        vertical-align: middle;\n",
       "    }\n",
       "\n",
       "    .dataframe tbody tr th {\n",
       "        vertical-align: top;\n",
       "    }\n",
       "\n",
       "    .dataframe thead th {\n",
       "        text-align: right;\n",
       "    }\n",
       "</style>\n",
       "<table border=\"1\" class=\"dataframe\">\n",
       "  <thead>\n",
       "    <tr style=\"text-align: right;\">\n",
       "      <th></th>\n",
       "      <th>content</th>\n",
       "      <th>score</th>\n",
       "      <th>at</th>\n",
       "      <th>replyContent</th>\n",
       "      <th>repliedAt</th>\n",
       "      <th>cleanedcontent</th>\n",
       "      <th>cleanedreplyContent</th>\n",
       "    </tr>\n",
       "  </thead>\n",
       "  <tbody>\n",
       "    <tr>\n",
       "      <th>0</th>\n",
       "      <td>Ok normal</td>\n",
       "      <td>2</td>\n",
       "      <td>2022-10-06 19:22:27</td>\n",
       "      <td>None</td>\n",
       "      <td>NaT</td>\n",
       "      <td>ok normal</td>\n",
       "      <td>nan</td>\n",
       "    </tr>\n",
       "    <tr>\n",
       "      <th>1</th>\n",
       "      <td>Terrific</td>\n",
       "      <td>5</td>\n",
       "      <td>2022-10-06 19:17:42</td>\n",
       "      <td>None</td>\n",
       "      <td>NaT</td>\n",
       "      <td>terrific</td>\n",
       "      <td>nan</td>\n",
       "    </tr>\n",
       "    <tr>\n",
       "      <th>2</th>\n",
       "      <td>nice</td>\n",
       "      <td>5</td>\n",
       "      <td>2022-10-06 18:54:26</td>\n",
       "      <td>None</td>\n",
       "      <td>NaT</td>\n",
       "      <td>nice</td>\n",
       "      <td>nan</td>\n",
       "    </tr>\n",
       "    <tr>\n",
       "      <th>3</th>\n",
       "      <td>No Grab drivers are available unless you subsc...</td>\n",
       "      <td>1</td>\n",
       "      <td>2022-10-06 18:40:55</td>\n",
       "      <td>Hi there! That’s not the experience we want yo...</td>\n",
       "      <td>2022-10-06 21:27:36</td>\n",
       "      <td>grab drivers available unless subscribe unlimi...</td>\n",
       "      <td>hi thats experience want write us via inapp he...</td>\n",
       "    </tr>\n",
       "    <tr>\n",
       "      <th>4</th>\n",
       "      <td>Tolong edukasi drivernya supaya tetap ambil or...</td>\n",
       "      <td>1</td>\n",
       "      <td>2022-10-06 18:22:46</td>\n",
       "      <td>None</td>\n",
       "      <td>NaT</td>\n",
       "      <td>tolong edukasi drivernya supaya tetap ambil or...</td>\n",
       "      <td>nan</td>\n",
       "    </tr>\n",
       "  </tbody>\n",
       "</table>\n",
       "</div>"
      ],
      "text/plain": [
       "                                             content  score  \\\n",
       "0                                          Ok normal      2   \n",
       "1                                           Terrific      5   \n",
       "2                                               nice      5   \n",
       "3  No Grab drivers are available unless you subsc...      1   \n",
       "4  Tolong edukasi drivernya supaya tetap ambil or...      1   \n",
       "\n",
       "                   at                                       replyContent  \\\n",
       "0 2022-10-06 19:22:27                                               None   \n",
       "1 2022-10-06 19:17:42                                               None   \n",
       "2 2022-10-06 18:54:26                                               None   \n",
       "3 2022-10-06 18:40:55  Hi there! That’s not the experience we want yo...   \n",
       "4 2022-10-06 18:22:46                                               None   \n",
       "\n",
       "            repliedAt                                     cleanedcontent  \\\n",
       "0                 NaT                                          ok normal   \n",
       "1                 NaT                                           terrific   \n",
       "2                 NaT                                               nice   \n",
       "3 2022-10-06 21:27:36  grab drivers available unless subscribe unlimi...   \n",
       "4                 NaT  tolong edukasi drivernya supaya tetap ambil or...   \n",
       "\n",
       "                                 cleanedreplyContent  \n",
       "0                                                nan  \n",
       "1                                                nan  \n",
       "2                                                nan  \n",
       "3  hi thats experience want write us via inapp he...  \n",
       "4                                                nan  "
      ]
     },
     "execution_count": 10,
     "metadata": {},
     "output_type": "execute_result"
    }
   ],
   "source": [
    "filteredData.head()\n",
    "# filteredData.info()\n",
    "# filteredData['at'].dt.day"
   ]
  },
  {
   "cell_type": "code",
   "execution_count": null,
   "id": "a307634a",
   "metadata": {
    "id": "a307634a"
   },
   "outputs": [],
   "source": [
    "filteredData.to_csv(\"playstorescrapping.csv\", index = False)  #Save the file as CSV"
   ]
  },
  {
   "cell_type": "code",
   "execution_count": null,
   "id": "61613fbe",
   "metadata": {
    "id": "61613fbe"
   },
   "outputs": [],
   "source": []
  }
 ],
 "metadata": {
  "colab": {
   "provenance": []
  },
  "kernelspec": {
   "display_name": "Python 3 (ipykernel)",
   "language": "python",
   "name": "python3"
  },
  "language_info": {
   "codemirror_mode": {
    "name": "ipython",
    "version": 3
   },
   "file_extension": ".py",
   "mimetype": "text/x-python",
   "name": "python",
   "nbconvert_exporter": "python",
   "pygments_lexer": "ipython3",
   "version": "3.9.7"
  }
 },
 "nbformat": 4,
 "nbformat_minor": 5
}
